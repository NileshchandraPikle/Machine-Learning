{
 "cells": [
  {
   "cell_type": "markdown",
   "metadata": {},
   "source": [
    "## Sentiment Analysis of Amazon Reviews on Musical Instruments using Machine Learning"
   ]
  },
  {
   "cell_type": "markdown",
   "metadata": {},
   "source": [
    "1. Dataset: https://www.kaggle.com/eswarchandt/amazon-music-reviews\n",
    "2. Problem statement: Given review text determine the polarity: Positive or Negative\n",
    "3. Type of problem: Classification, Supervised\n",
    "4. Data type: Review text and other parameters stored in csv file\n",
    "5. Performance Measures: Accuracy, Precision, Recall, Confusion Matrix, RoC AUC\n",
    "6. Feature Importance: Not required\n",
    "7. Interpretability: Why the review is classified as positive or negative"
   ]
  },
  {
   "cell_type": "markdown",
   "metadata": {},
   "source": [
    "### Classification Algorithms:\n",
    "1. K-Nearest Neighbor\n",
    "2. Logistic Regression (one-vs-rest)\n",
    "3. SVM Classifier\n",
    "4. Decision Tree\n",
    "5. Random Forest\n",
    "6. XGBoost\n",
    "7. Naive Bays"
   ]
  },
  {
   "cell_type": "markdown",
   "metadata": {},
   "source": [
    "### Libraries required\n",
    "1. Pandas\n",
    "2. Numpy\n",
    "3. Matplotlib and seaborn\n",
    "4. nltk"
   ]
  },
  {
   "cell_type": "markdown",
   "metadata": {},
   "source": [
    "### Dataset descrition"
   ]
  },
  {
   "cell_type": "markdown",
   "metadata": {},
   "source": [
    "#### Content\n",
    "This file has reviewer ID , User ID, Reviewer Name, Reviewer text, helpful, Summary(obtained from Reviewer text),Overall Rating on a scale 5, Review time\n",
    "Description of columns in the file:\n",
    "\n",
    "1. reviewerID - ID of the reviewer, e.g. A2SUAM1J3GNN3B\n",
    "2. asin - ID of the product, e.g. 0000013714\n",
    "3. reviewerName - name of the reviewer\n",
    "4. helpful - helpfulness rating of the review, e.g. 2/3\n",
    "5. reviewText - text of the review\n",
    "6. overall - rating of the product\n",
    "7. summary - summary of the review\n",
    "8. unixReviewTime - time of the review (unix time)\n",
    "9. reviewTime - time of the review (raw) "
   ]
  },
  {
   "cell_type": "markdown",
   "metadata": {},
   "source": [
    "#### Important Features\n",
    "1. reviewerID - Its unique for every customer hence can be removed\n",
    "2. asin - ID of the product - Its unique for every customer hence can be removed\n",
    "3. reviewerName - Does not impact on final sentiment of the review hence can be removed\n",
    "4. helpful - Reveiw helpfulness may impact the polarity of the review text hence keep it by following modifications\n",
    "   percentage of helpfulness = (number of customers found it helful) / (total number of customers found it helpful or not helpful)\n",
    "5. reviewText: Most important text from which polarity is decided\n",
    "6. summary: Short summary of the review text hence keep it\n",
    "7. unixReviewTime: As this is time based data this feature will be helful for data partition into text/train/cv. But this feature is not going to help in deciding of polarity of review text\n",
    "8. reviewTime: Removed as unixReviewTime is considered"
   ]
  },
  {
   "cell_type": "markdown",
   "metadata": {},
   "source": [
    "### Import Libraries"
   ]
  },
  {
   "cell_type": "code",
   "execution_count": null,
   "metadata": {},
   "outputs": [],
   "source": [
    "import numpy as np\n",
    "import pandas as pd\n",
    "import matplotlib.pyplot as plt\n",
    "import seaborn as sns\n",
    "import matplotlib.patheffects as path_effects\n",
    "\n",
    "\n",
    "import random\n",
    "from random import randint\n",
    "from tqdm import tqdm\n",
    "\n",
    "from sklearn.decomposition import PCA\n",
    "from sklearn.manifold import TSNE\n",
    "from sklearn.preprocessing import StandardScaler\n",
    "\n",
    "from sklearn.model_selection import train_test_split\n",
    "from sklearn.metrics import accuracy_score\n",
    "from sklearn.metrics import confusion_matrix\n",
    "from sklearn.metrics import classification_report\n",
    "#from sklearn.metrics import plot_roc_curve #require python 3.5 or higher version\n",
    "\n",
    "from sklearn.naive_bayes import MultinomialNB\n",
    "from sklearn.model_selection import GridSearchCV\n",
    "from sklearn.neighbors import KNeighborsClassifier\n",
    "from sklearn.svm import SVC\n",
    "from sklearn.linear_model import LogisticRegression\n",
    "from sklearn.tree import DecisionTreeClassifier\n",
    "from sklearn.ensemble import RandomForestClassifier\n",
    "from xgboost import XGBClassifier\n",
    "\n",
    "\n",
    "import re\n",
    "import nltk\n",
    "#nltk.download()\n",
    "from nltk.tokenize import word_tokenize \n",
    "from nltk.corpus import stopwords \n",
    "from nltk.stem import WordNetLemmatizer\n",
    "from nltk.stem import PorterStemmer\n",
    "from sklearn.feature_extraction.text import TfidfVectorizer"
   ]
  },
  {
   "cell_type": "code",
   "execution_count": 6,
   "metadata": {},
   "outputs": [
    {
     "name": "stderr",
     "output_type": "stream",
     "text": [
      "Python 2.7.15 :: Anaconda, Inc.\n"
     ]
    },
    {
     "name": "stdout",
     "output_type": "stream",
     "text": [
      "10 loops, best of 3: 0.933 usec per loop\n"
     ]
    }
   ],
   "source": [
    "!python --version\n",
    "!python -m timeit \"import nltk\""
   ]
  },
  {
   "cell_type": "markdown",
   "metadata": {},
   "source": [
    "### Data Preprocessing"
   ]
  },
  {
   "cell_type": "code",
   "execution_count": 2,
   "metadata": {},
   "outputs": [],
   "source": [
    "rawData = pd.read_csv(\"Musical_instruments_reviews.csv\")"
   ]
  },
  {
   "cell_type": "markdown",
   "metadata": {},
   "source": [
    "Convert 'reviewText' and 'summary' column into 'string' type refer following link for detailed reason\n",
    "- https://stackoverflow.com/questions/33098040/how-to-use-word-tokenize-in-data-frame\n"
   ]
  },
  {
   "cell_type": "code",
   "execution_count": 3,
   "metadata": {},
   "outputs": [],
   "source": [
    "rawData.reviewText=rawData.reviewText.astype(str)\n",
    "rawData.summary=rawData.summary.astype(str)"
   ]
  },
  {
   "cell_type": "code",
   "execution_count": 4,
   "metadata": {},
   "outputs": [
    {
     "name": "stdout",
     "output_type": "stream",
     "text": [
      "<class 'pandas.core.frame.DataFrame'>\n",
      "RangeIndex: 10261 entries, 0 to 10260\n",
      "Data columns (total 9 columns):\n",
      "reviewerID        10261 non-null object\n",
      "asin              10261 non-null object\n",
      "reviewerName      10234 non-null object\n",
      "helpful           10261 non-null object\n",
      "reviewText        10261 non-null object\n",
      "overall           10261 non-null float64\n",
      "summary           10261 non-null object\n",
      "unixReviewTime    10261 non-null int64\n",
      "reviewTime        10261 non-null object\n",
      "dtypes: float64(1), int64(1), object(7)\n",
      "memory usage: 721.5+ KB\n"
     ]
    }
   ],
   "source": [
    "rawData.info()"
   ]
  },
  {
   "cell_type": "code",
   "execution_count": 5,
   "metadata": {},
   "outputs": [
    {
     "name": "stdout",
     "output_type": "stream",
     "text": [
      "('Data size shape', (10261, 9))\n"
     ]
    },
    {
     "data": {
      "text/html": [
       "<div>\n",
       "<style scoped>\n",
       "    .dataframe tbody tr th:only-of-type {\n",
       "        vertical-align: middle;\n",
       "    }\n",
       "\n",
       "    .dataframe tbody tr th {\n",
       "        vertical-align: top;\n",
       "    }\n",
       "\n",
       "    .dataframe thead th {\n",
       "        text-align: right;\n",
       "    }\n",
       "</style>\n",
       "<table border=\"1\" class=\"dataframe\">\n",
       "  <thead>\n",
       "    <tr style=\"text-align: right;\">\n",
       "      <th></th>\n",
       "      <th>reviewerID</th>\n",
       "      <th>asin</th>\n",
       "      <th>reviewerName</th>\n",
       "      <th>helpful</th>\n",
       "      <th>reviewText</th>\n",
       "      <th>overall</th>\n",
       "      <th>summary</th>\n",
       "      <th>unixReviewTime</th>\n",
       "      <th>reviewTime</th>\n",
       "    </tr>\n",
       "  </thead>\n",
       "  <tbody>\n",
       "    <tr>\n",
       "      <th>0</th>\n",
       "      <td>A2IBPI20UZIR0U</td>\n",
       "      <td>1384719342</td>\n",
       "      <td>cassandra tu \"Yeah, well, that's just like, u...</td>\n",
       "      <td>[0, 0]</td>\n",
       "      <td>Not much to write about here, but it does exac...</td>\n",
       "      <td>5.0</td>\n",
       "      <td>good</td>\n",
       "      <td>1393545600</td>\n",
       "      <td>02 28, 2014</td>\n",
       "    </tr>\n",
       "    <tr>\n",
       "      <th>1</th>\n",
       "      <td>A14VAT5EAX3D9S</td>\n",
       "      <td>1384719342</td>\n",
       "      <td>Jake</td>\n",
       "      <td>[13, 14]</td>\n",
       "      <td>The product does exactly as it should and is q...</td>\n",
       "      <td>5.0</td>\n",
       "      <td>Jake</td>\n",
       "      <td>1363392000</td>\n",
       "      <td>03 16, 2013</td>\n",
       "    </tr>\n",
       "    <tr>\n",
       "      <th>2</th>\n",
       "      <td>A195EZSQDW3E21</td>\n",
       "      <td>1384719342</td>\n",
       "      <td>Rick Bennette \"Rick Bennette\"</td>\n",
       "      <td>[1, 1]</td>\n",
       "      <td>The primary job of this device is to block the...</td>\n",
       "      <td>5.0</td>\n",
       "      <td>It Does The Job Well</td>\n",
       "      <td>1377648000</td>\n",
       "      <td>08 28, 2013</td>\n",
       "    </tr>\n",
       "    <tr>\n",
       "      <th>3</th>\n",
       "      <td>A2C00NNG1ZQQG2</td>\n",
       "      <td>1384719342</td>\n",
       "      <td>RustyBill \"Sunday Rocker\"</td>\n",
       "      <td>[0, 0]</td>\n",
       "      <td>Nice windscreen protects my MXL mic and preven...</td>\n",
       "      <td>5.0</td>\n",
       "      <td>GOOD WINDSCREEN FOR THE MONEY</td>\n",
       "      <td>1392336000</td>\n",
       "      <td>02 14, 2014</td>\n",
       "    </tr>\n",
       "    <tr>\n",
       "      <th>4</th>\n",
       "      <td>A94QU4C90B1AX</td>\n",
       "      <td>1384719342</td>\n",
       "      <td>SEAN MASLANKA</td>\n",
       "      <td>[0, 0]</td>\n",
       "      <td>This pop filter is great. It looks and perform...</td>\n",
       "      <td>5.0</td>\n",
       "      <td>No more pops when I record my vocals.</td>\n",
       "      <td>1392940800</td>\n",
       "      <td>02 21, 2014</td>\n",
       "    </tr>\n",
       "  </tbody>\n",
       "</table>\n",
       "</div>"
      ],
      "text/plain": [
       "       reviewerID        asin  \\\n",
       "0  A2IBPI20UZIR0U  1384719342   \n",
       "1  A14VAT5EAX3D9S  1384719342   \n",
       "2  A195EZSQDW3E21  1384719342   \n",
       "3  A2C00NNG1ZQQG2  1384719342   \n",
       "4   A94QU4C90B1AX  1384719342   \n",
       "\n",
       "                                       reviewerName   helpful  \\\n",
       "0  cassandra tu \"Yeah, well, that's just like, u...    [0, 0]   \n",
       "1                                              Jake  [13, 14]   \n",
       "2                     Rick Bennette \"Rick Bennette\"    [1, 1]   \n",
       "3                         RustyBill \"Sunday Rocker\"    [0, 0]   \n",
       "4                                     SEAN MASLANKA    [0, 0]   \n",
       "\n",
       "                                          reviewText  overall  \\\n",
       "0  Not much to write about here, but it does exac...      5.0   \n",
       "1  The product does exactly as it should and is q...      5.0   \n",
       "2  The primary job of this device is to block the...      5.0   \n",
       "3  Nice windscreen protects my MXL mic and preven...      5.0   \n",
       "4  This pop filter is great. It looks and perform...      5.0   \n",
       "\n",
       "                                 summary  unixReviewTime   reviewTime  \n",
       "0                                   good      1393545600  02 28, 2014  \n",
       "1                                   Jake      1363392000  03 16, 2013  \n",
       "2                   It Does The Job Well      1377648000  08 28, 2013  \n",
       "3          GOOD WINDSCREEN FOR THE MONEY      1392336000  02 14, 2014  \n",
       "4  No more pops when I record my vocals.      1392940800  02 21, 2014  "
      ]
     },
     "execution_count": 5,
     "metadata": {},
     "output_type": "execute_result"
    }
   ],
   "source": [
    "print(\"Data size shape\",rawData.shape)\n",
    "rawData.head()"
   ]
  },
  {
   "cell_type": "code",
   "execution_count": 6,
   "metadata": {},
   "outputs": [
    {
     "data": {
      "text/html": [
       "<div>\n",
       "<style scoped>\n",
       "    .dataframe tbody tr th:only-of-type {\n",
       "        vertical-align: middle;\n",
       "    }\n",
       "\n",
       "    .dataframe tbody tr th {\n",
       "        vertical-align: top;\n",
       "    }\n",
       "\n",
       "    .dataframe thead th {\n",
       "        text-align: right;\n",
       "    }\n",
       "</style>\n",
       "<table border=\"1\" class=\"dataframe\">\n",
       "  <thead>\n",
       "    <tr style=\"text-align: right;\">\n",
       "      <th></th>\n",
       "      <th>index</th>\n",
       "      <th>reviewerID</th>\n",
       "      <th>asin</th>\n",
       "      <th>reviewerName</th>\n",
       "      <th>helpful</th>\n",
       "      <th>reviewText</th>\n",
       "      <th>overall</th>\n",
       "      <th>summary</th>\n",
       "      <th>unixReviewTime</th>\n",
       "      <th>reviewTime</th>\n",
       "    </tr>\n",
       "  </thead>\n",
       "  <tbody>\n",
       "    <tr>\n",
       "      <th>0</th>\n",
       "      <td>4420</td>\n",
       "      <td>AV8MDYLHHTUOY</td>\n",
       "      <td>B000CD3QY2</td>\n",
       "      <td>Amazon Customer \"eyegor\"</td>\n",
       "      <td>[18, 19]</td>\n",
       "      <td>The ability to quickly change the range and se...</td>\n",
       "      <td>4.0</td>\n",
       "      <td>GREAT Wah</td>\n",
       "      <td>1095465600</td>\n",
       "      <td>09 18, 2004</td>\n",
       "    </tr>\n",
       "    <tr>\n",
       "      <th>1</th>\n",
       "      <td>7413</td>\n",
       "      <td>A33H0WC9MI8OVW</td>\n",
       "      <td>B002Q0WT6U</td>\n",
       "      <td>Clare Chu</td>\n",
       "      <td>[12, 13]</td>\n",
       "      <td>Jade rosin gives a extra grippiness to the bow...</td>\n",
       "      <td>5.0</td>\n",
       "      <td>Excellent sticky rosin</td>\n",
       "      <td>1096416000</td>\n",
       "      <td>09 29, 2004</td>\n",
       "    </tr>\n",
       "    <tr>\n",
       "      <th>2</th>\n",
       "      <td>954</td>\n",
       "      <td>A33H0WC9MI8OVW</td>\n",
       "      <td>B0002D0COE</td>\n",
       "      <td>Clare Chu</td>\n",
       "      <td>[9, 11]</td>\n",
       "      <td>This compact humidifier is easily filled with ...</td>\n",
       "      <td>5.0</td>\n",
       "      <td>Very Easy to Use, Non-Messy</td>\n",
       "      <td>1096416000</td>\n",
       "      <td>09 29, 2004</td>\n",
       "    </tr>\n",
       "    <tr>\n",
       "      <th>3</th>\n",
       "      <td>5581</td>\n",
       "      <td>A3SMT15X2QVUR8</td>\n",
       "      <td>B000SZVYLQ</td>\n",
       "      <td>Victoria Tarrani \"writer, editor, artist, des...</td>\n",
       "      <td>[63, 63]</td>\n",
       "      <td>When I purchased this pedal from a local music...</td>\n",
       "      <td>5.0</td>\n",
       "      <td>Competes with many high-end pedals</td>\n",
       "      <td>1101686400</td>\n",
       "      <td>11 29, 2004</td>\n",
       "    </tr>\n",
       "    <tr>\n",
       "      <th>4</th>\n",
       "      <td>1560</td>\n",
       "      <td>A3SMT15X2QVUR8</td>\n",
       "      <td>B0002E2EOE</td>\n",
       "      <td>Victoria Tarrani \"writer, editor, artist, des...</td>\n",
       "      <td>[58, 59]</td>\n",
       "      <td>I purchased this key on a whim.  When it arriv...</td>\n",
       "      <td>5.0</td>\n",
       "      <td>This actually works - and works well</td>\n",
       "      <td>1101686400</td>\n",
       "      <td>11 29, 2004</td>\n",
       "    </tr>\n",
       "    <tr>\n",
       "      <th>5</th>\n",
       "      <td>2004</td>\n",
       "      <td>A3SMT15X2QVUR8</td>\n",
       "      <td>B0002F73YY</td>\n",
       "      <td>Victoria Tarrani \"writer, editor, artist, des...</td>\n",
       "      <td>[21, 22]</td>\n",
       "      <td>This is an ingenious clutch that engages when ...</td>\n",
       "      <td>5.0</td>\n",
       "      <td>Essential for double bass pedal players</td>\n",
       "      <td>1101686400</td>\n",
       "      <td>11 29, 2004</td>\n",
       "    </tr>\n",
       "    <tr>\n",
       "      <th>6</th>\n",
       "      <td>2590</td>\n",
       "      <td>A3SMT15X2QVUR8</td>\n",
       "      <td>B0002GXRF2</td>\n",
       "      <td>Victoria Tarrani \"writer, editor, artist, des...</td>\n",
       "      <td>[22, 22]</td>\n",
       "      <td>These heads are virtually indestructable and p...</td>\n",
       "      <td>5.0</td>\n",
       "      <td>Perfect for rock</td>\n",
       "      <td>1101859200</td>\n",
       "      <td>12 1, 2004</td>\n",
       "    </tr>\n",
       "    <tr>\n",
       "      <th>7</th>\n",
       "      <td>3721</td>\n",
       "      <td>A1MI9FDCNB3CMR</td>\n",
       "      <td>B0006OHVK2</td>\n",
       "      <td>Jorge Barbarosa \"the_bassist\"</td>\n",
       "      <td>[12, 13]</td>\n",
       "      <td>Flatwound? Ribbon wound?  It's all the same, n...</td>\n",
       "      <td>5.0</td>\n",
       "      <td>No Squeaking</td>\n",
       "      <td>1106870400</td>\n",
       "      <td>01 28, 2005</td>\n",
       "    </tr>\n",
       "    <tr>\n",
       "      <th>8</th>\n",
       "      <td>1941</td>\n",
       "      <td>A1RPTVW5VEOSI</td>\n",
       "      <td>B0002F4MKC</td>\n",
       "      <td>Michael J. Edelman</td>\n",
       "      <td>[8, 9]</td>\n",
       "      <td>I was in a local music store the other day and...</td>\n",
       "      <td>4.0</td>\n",
       "      <td>Not bad...!</td>\n",
       "      <td>1110499200</td>\n",
       "      <td>03 11, 2005</td>\n",
       "    </tr>\n",
       "    <tr>\n",
       "      <th>9</th>\n",
       "      <td>2632</td>\n",
       "      <td>A2PD27UKAD3Q00</td>\n",
       "      <td>B0002GXZK4</td>\n",
       "      <td>Wilhelmina Zeitgeist \"coolartsybabe\"</td>\n",
       "      <td>[156, 160]</td>\n",
       "      <td>I was thrilled when my guitar arrived and even...</td>\n",
       "      <td>5.0</td>\n",
       "      <td>This guitar DOES have a BIG SOUND for a small ...</td>\n",
       "      <td>1111708800</td>\n",
       "      <td>03 25, 2005</td>\n",
       "    </tr>\n",
       "    <tr>\n",
       "      <th>10</th>\n",
       "      <td>3364</td>\n",
       "      <td>A12ABV9NU02O29</td>\n",
       "      <td>B0002MSQVQ</td>\n",
       "      <td>C. Longo</td>\n",
       "      <td>[1, 1]</td>\n",
       "      <td>The Rat has been used by everyone from David G...</td>\n",
       "      <td>5.0</td>\n",
       "      <td>Incredibly versatile pedal</td>\n",
       "      <td>1127865600</td>\n",
       "      <td>09 28, 2005</td>\n",
       "    </tr>\n",
       "    <tr>\n",
       "      <th>11</th>\n",
       "      <td>5742</td>\n",
       "      <td>A27UAE2PME5TRV</td>\n",
       "      <td>B000VJ2VCK</td>\n",
       "      <td>kwb</td>\n",
       "      <td>[3, 3]</td>\n",
       "      <td>I ordered this bench for last Christmas (2005)...</td>\n",
       "      <td>5.0</td>\n",
       "      <td>Mine came with height adjustment</td>\n",
       "      <td>1136592000</td>\n",
       "      <td>01 7, 2006</td>\n",
       "    </tr>\n",
       "    <tr>\n",
       "      <th>12</th>\n",
       "      <td>196</td>\n",
       "      <td>A1MI9FDCNB3CMR</td>\n",
       "      <td>B0000AQRST</td>\n",
       "      <td>Jorge Barbarosa \"the_bassist\"</td>\n",
       "      <td>[15, 18]</td>\n",
       "      <td>Seriously?  The Shure SM57 sets the standard, ...</td>\n",
       "      <td>5.0</td>\n",
       "      <td>Industry Standard</td>\n",
       "      <td>1140912000</td>\n",
       "      <td>02 26, 2006</td>\n",
       "    </tr>\n",
       "    <tr>\n",
       "      <th>13</th>\n",
       "      <td>2556</td>\n",
       "      <td>A1MI9FDCNB3CMR</td>\n",
       "      <td>B0002GXF8Q</td>\n",
       "      <td>Jorge Barbarosa \"the_bassist\"</td>\n",
       "      <td>[11, 24]</td>\n",
       "      <td>Okay,  Color coding is a GREAT idea.Divas will...</td>\n",
       "      <td>1.0</td>\n",
       "      <td>Color Coding Helps the sound engineer</td>\n",
       "      <td>1141344000</td>\n",
       "      <td>03 3, 2006</td>\n",
       "    </tr>\n",
       "    <tr>\n",
       "      <th>14</th>\n",
       "      <td>194</td>\n",
       "      <td>A2KI91IR3RA7D0</td>\n",
       "      <td>B0000AQRST</td>\n",
       "      <td>David L. Vasser</td>\n",
       "      <td>[73, 76]</td>\n",
       "      <td>Although this mic is now considered primarily ...</td>\n",
       "      <td>5.0</td>\n",
       "      <td>Best all around for over 30 years!</td>\n",
       "      <td>1147651200</td>\n",
       "      <td>05 15, 2006</td>\n",
       "    </tr>\n",
       "    <tr>\n",
       "      <th>15</th>\n",
       "      <td>208</td>\n",
       "      <td>A2KI91IR3RA7D0</td>\n",
       "      <td>B0000AQRSU</td>\n",
       "      <td>David L. Vasser</td>\n",
       "      <td>[246, 259]</td>\n",
       "      <td>The first rule of microphones is that, \"No one...</td>\n",
       "      <td>4.0</td>\n",
       "      <td>Good for vocals only!</td>\n",
       "      <td>1147737600</td>\n",
       "      <td>05 16, 2006</td>\n",
       "    </tr>\n",
       "    <tr>\n",
       "      <th>16</th>\n",
       "      <td>3881</td>\n",
       "      <td>A2G2DXPFZKG48W</td>\n",
       "      <td>B000978D58</td>\n",
       "      <td>Audio Maven</td>\n",
       "      <td>[52, 57]</td>\n",
       "      <td>This stand is very flexible in the way it can ...</td>\n",
       "      <td>5.0</td>\n",
       "      <td>necessary for home studio</td>\n",
       "      <td>1150243200</td>\n",
       "      <td>06 14, 2006</td>\n",
       "    </tr>\n",
       "    <tr>\n",
       "      <th>17</th>\n",
       "      <td>1426</td>\n",
       "      <td>A3SDJ70H00OQCJ</td>\n",
       "      <td>B0002E1NNM</td>\n",
       "      <td>JerryWithaJ</td>\n",
       "      <td>[32, 34]</td>\n",
       "      <td>There's NO SUCH THING as a \"best string\".  Fro...</td>\n",
       "      <td>4.0</td>\n",
       "      <td>It depends...</td>\n",
       "      <td>1151107200</td>\n",
       "      <td>06 24, 2006</td>\n",
       "    </tr>\n",
       "    <tr>\n",
       "      <th>18</th>\n",
       "      <td>4254</td>\n",
       "      <td>A30J7WQV0ZNRXG</td>\n",
       "      <td>B000BBRZ3S</td>\n",
       "      <td>D. Reinstein \"marindavid\"</td>\n",
       "      <td>[114, 130]</td>\n",
       "      <td>A Little History:I have been a guitar player f...</td>\n",
       "      <td>5.0</td>\n",
       "      <td>From the Ice-Age to the New-Age for cheap!</td>\n",
       "      <td>1154131200</td>\n",
       "      <td>07 29, 2006</td>\n",
       "    </tr>\n",
       "    <tr>\n",
       "      <th>19</th>\n",
       "      <td>4256</td>\n",
       "      <td>AU3GYRAKBUAEU</td>\n",
       "      <td>B000BBRZ3S</td>\n",
       "      <td>Jon Norris</td>\n",
       "      <td>[8, 13]</td>\n",
       "      <td>This is a nice little tuner. It is small, easy...</td>\n",
       "      <td>3.0</td>\n",
       "      <td>missing one important function</td>\n",
       "      <td>1161388800</td>\n",
       "      <td>10 21, 2006</td>\n",
       "    </tr>\n",
       "    <tr>\n",
       "      <th>20</th>\n",
       "      <td>3776</td>\n",
       "      <td>A30J7WQV0ZNRXG</td>\n",
       "      <td>B0007GGUGA</td>\n",
       "      <td>D. Reinstein \"marindavid\"</td>\n",
       "      <td>[28, 32]</td>\n",
       "      <td>This new type and design of capos, manufactued...</td>\n",
       "      <td>5.0</td>\n",
       "      <td>You Get What You Pay For (Sometimes!)</td>\n",
       "      <td>1166400000</td>\n",
       "      <td>12 18, 2006</td>\n",
       "    </tr>\n",
       "    <tr>\n",
       "      <th>21</th>\n",
       "      <td>1545</td>\n",
       "      <td>A30J7WQV0ZNRXG</td>\n",
       "      <td>B0002E1O90</td>\n",
       "      <td>D. Reinstein \"marindavid\"</td>\n",
       "      <td>[4, 5]</td>\n",
       "      <td>I have tried many types of steel strings.  My ...</td>\n",
       "      <td>5.0</td>\n",
       "      <td>The best sound on my Taylor 355</td>\n",
       "      <td>1169856000</td>\n",
       "      <td>01 27, 2007</td>\n",
       "    </tr>\n",
       "    <tr>\n",
       "      <th>22</th>\n",
       "      <td>1448</td>\n",
       "      <td>A30J7WQV0ZNRXG</td>\n",
       "      <td>B0002E1O2C</td>\n",
       "      <td>D. Reinstein \"marindavid\"</td>\n",
       "      <td>[2, 3]</td>\n",
       "      <td>Taylor ships this guitar with these strings - ...</td>\n",
       "      <td>5.0</td>\n",
       "      <td>They sound lovely on my Taylor 355 12-string</td>\n",
       "      <td>1172534400</td>\n",
       "      <td>02 27, 2007</td>\n",
       "    </tr>\n",
       "    <tr>\n",
       "      <th>23</th>\n",
       "      <td>261</td>\n",
       "      <td>A5ZS85C5V40S8</td>\n",
       "      <td>B0002CZR3G</td>\n",
       "      <td>S. Graf</td>\n",
       "      <td>[3, 3]</td>\n",
       "      <td>Hello Musicfriends - This is built cheap but s...</td>\n",
       "      <td>4.0</td>\n",
       "      <td>Built cheap - Sounds great!</td>\n",
       "      <td>1174608000</td>\n",
       "      <td>03 23, 2007</td>\n",
       "    </tr>\n",
       "    <tr>\n",
       "      <th>24</th>\n",
       "      <td>3946</td>\n",
       "      <td>A5ZS85C5V40S8</td>\n",
       "      <td>B0009DXEEM</td>\n",
       "      <td>S. Graf</td>\n",
       "      <td>[2, 3]</td>\n",
       "      <td>Musicfriends, This is a fab item - For 20.00 Y...</td>\n",
       "      <td>4.0</td>\n",
       "      <td>20.00!!!  You can't go wrong on this</td>\n",
       "      <td>1174608000</td>\n",
       "      <td>03 23, 2007</td>\n",
       "    </tr>\n",
       "    <tr>\n",
       "      <th>25</th>\n",
       "      <td>7405</td>\n",
       "      <td>A3SDJ70H00OQCJ</td>\n",
       "      <td>B002Q0WSO8</td>\n",
       "      <td>JerryWithaJ</td>\n",
       "      <td>[188, 193]</td>\n",
       "      <td>The Intelli IMT-500--The tuner that killed the...</td>\n",
       "      <td>5.0</td>\n",
       "      <td>Finally!  Amazon offers the Intelli IMT-500</td>\n",
       "      <td>1177027200</td>\n",
       "      <td>04 20, 2007</td>\n",
       "    </tr>\n",
       "    <tr>\n",
       "      <th>26</th>\n",
       "      <td>3730</td>\n",
       "      <td>A6FIAB28IS79</td>\n",
       "      <td>B0006VMBHI</td>\n",
       "      <td>Samuel Chell</td>\n",
       "      <td>[10, 20]</td>\n",
       "      <td>The version I picked came with a grounding wir...</td>\n",
       "      <td>2.0</td>\n",
       "      <td>Belief is the key.</td>\n",
       "      <td>1190678400</td>\n",
       "      <td>09 25, 2007</td>\n",
       "    </tr>\n",
       "    <tr>\n",
       "      <th>27</th>\n",
       "      <td>4539</td>\n",
       "      <td>A33H0WC9MI8OVW</td>\n",
       "      <td>B000EEHMXA</td>\n",
       "      <td>Clare Chu</td>\n",
       "      <td>[42, 43]</td>\n",
       "      <td>The J74's are sort of the default string that ...</td>\n",
       "      <td>4.0</td>\n",
       "      <td>Bright, Brassy when New</td>\n",
       "      <td>1190937600</td>\n",
       "      <td>09 28, 2007</td>\n",
       "    </tr>\n",
       "    <tr>\n",
       "      <th>28</th>\n",
       "      <td>4194</td>\n",
       "      <td>AEMC16IPBZORW</td>\n",
       "      <td>B000B6DHAS</td>\n",
       "      <td>H town</td>\n",
       "      <td>[38, 40]</td>\n",
       "      <td>This is 10 watt walkman size guitar amplifier....</td>\n",
       "      <td>4.0</td>\n",
       "      <td>Good amp. for on the go jamming.</td>\n",
       "      <td>1192406400</td>\n",
       "      <td>10 15, 2007</td>\n",
       "    </tr>\n",
       "    <tr>\n",
       "      <th>29</th>\n",
       "      <td>460</td>\n",
       "      <td>AEMC16IPBZORW</td>\n",
       "      <td>B0002CZVI2</td>\n",
       "      <td>H town</td>\n",
       "      <td>[12, 12]</td>\n",
       "      <td>I use this mostly with my Honeytone mini ampli...</td>\n",
       "      <td>5.0</td>\n",
       "      <td>Great for any Danlectro product.</td>\n",
       "      <td>1192492800</td>\n",
       "      <td>10 16, 2007</td>\n",
       "    </tr>\n",
       "    <tr>\n",
       "      <th>...</th>\n",
       "      <td>...</td>\n",
       "      <td>...</td>\n",
       "      <td>...</td>\n",
       "      <td>...</td>\n",
       "      <td>...</td>\n",
       "      <td>...</td>\n",
       "      <td>...</td>\n",
       "      <td>...</td>\n",
       "      <td>...</td>\n",
       "      <td>...</td>\n",
       "    </tr>\n",
       "    <tr>\n",
       "      <th>10231</th>\n",
       "      <td>2233</td>\n",
       "      <td>A2T8JRVJRVNX8R</td>\n",
       "      <td>B0002GJ6FC</td>\n",
       "      <td>NaN</td>\n",
       "      <td>[0, 0]</td>\n",
       "      <td>This headstand works like a charm. It's simple...</td>\n",
       "      <td>5.0</td>\n",
       "      <td>Best overall value</td>\n",
       "      <td>1405209600</td>\n",
       "      <td>07 13, 2014</td>\n",
       "    </tr>\n",
       "    <tr>\n",
       "      <th>10232</th>\n",
       "      <td>5936</td>\n",
       "      <td>AKP6IWJ24C1A5</td>\n",
       "      <td>B000XXBHA6</td>\n",
       "      <td>NaN</td>\n",
       "      <td>[0, 0]</td>\n",
       "      <td>I have no idea what happened or if anyone else...</td>\n",
       "      <td>1.0</td>\n",
       "      <td>Item was NOT like it was described. Be careful!!</td>\n",
       "      <td>1405209600</td>\n",
       "      <td>07 13, 2014</td>\n",
       "    </tr>\n",
       "    <tr>\n",
       "      <th>10233</th>\n",
       "      <td>9766</td>\n",
       "      <td>A3BMYEA3J6RBVV</td>\n",
       "      <td>B007YWHIP2</td>\n",
       "      <td>Y. Xu</td>\n",
       "      <td>[0, 0]</td>\n",
       "      <td>Can't hold tightly on 1st string (low C), a li...</td>\n",
       "      <td>2.0</td>\n",
       "      <td>Two Stars</td>\n",
       "      <td>1405209600</td>\n",
       "      <td>07 13, 2014</td>\n",
       "    </tr>\n",
       "    <tr>\n",
       "      <th>10234</th>\n",
       "      <td>4711</td>\n",
       "      <td>AKP6IWJ24C1A5</td>\n",
       "      <td>B000EEN9OG</td>\n",
       "      <td>NaN</td>\n",
       "      <td>[0, 0]</td>\n",
       "      <td>Works great for the price!! I just started to ...</td>\n",
       "      <td>5.0</td>\n",
       "      <td>Danelectro is alright.</td>\n",
       "      <td>1405209600</td>\n",
       "      <td>07 13, 2014</td>\n",
       "    </tr>\n",
       "    <tr>\n",
       "      <th>10235</th>\n",
       "      <td>4769</td>\n",
       "      <td>A3MONHA5DCPPLZ</td>\n",
       "      <td>B000H2BC4E</td>\n",
       "      <td>NaN</td>\n",
       "      <td>[0, 0]</td>\n",
       "      <td>Works as advertised for my purpose. It is in f...</td>\n",
       "      <td>4.0</td>\n",
       "      <td>Using it as an amp for a TV set.</td>\n",
       "      <td>1405296000</td>\n",
       "      <td>07 14, 2014</td>\n",
       "    </tr>\n",
       "    <tr>\n",
       "      <th>10236</th>\n",
       "      <td>10202</td>\n",
       "      <td>A356RFKNIG043B</td>\n",
       "      <td>B00H02C9TG</td>\n",
       "      <td>K. Swanson</td>\n",
       "      <td>[0, 1]</td>\n",
       "      <td>4.6 starsMy main concern with adapters like th...</td>\n",
       "      <td>5.0</td>\n",
       "      <td>Good clear A/D, almost no latency, and works w...</td>\n",
       "      <td>1405296000</td>\n",
       "      <td>07 14, 2014</td>\n",
       "    </tr>\n",
       "    <tr>\n",
       "      <th>10237</th>\n",
       "      <td>10123</td>\n",
       "      <td>A2JQWSA0GPVSQN</td>\n",
       "      <td>B00BU9KCXK</td>\n",
       "      <td>ManUPT</td>\n",
       "      <td>[0, 1]</td>\n",
       "      <td>The stand works great. It supports my Casio CT...</td>\n",
       "      <td>5.0</td>\n",
       "      <td>Keyboard Stand Review</td>\n",
       "      <td>1405296000</td>\n",
       "      <td>07 14, 2014</td>\n",
       "    </tr>\n",
       "    <tr>\n",
       "      <th>10238</th>\n",
       "      <td>10199</td>\n",
       "      <td>A14JBDSWKPKTZA</td>\n",
       "      <td>B00H02C9TG</td>\n",
       "      <td>Bob Feeser \"MillCrafters.com\"</td>\n",
       "      <td>[0, 0]</td>\n",
       "      <td>Notice in the name guitar INPUT. This is not t...</td>\n",
       "      <td>5.0</td>\n",
       "      <td>Getting in the door with Apogees incredible so...</td>\n",
       "      <td>1405296000</td>\n",
       "      <td>07 14, 2014</td>\n",
       "    </tr>\n",
       "    <tr>\n",
       "      <th>10239</th>\n",
       "      <td>2591</td>\n",
       "      <td>AA5TINW2RJ195</td>\n",
       "      <td>B0002GXV2Q</td>\n",
       "      <td>NaN</td>\n",
       "      <td>[0, 0]</td>\n",
       "      <td>Good short cable, plugs easy</td>\n",
       "      <td>4.0</td>\n",
       "      <td>Four Stars</td>\n",
       "      <td>1405382400</td>\n",
       "      <td>07 15, 2014</td>\n",
       "    </tr>\n",
       "    <tr>\n",
       "      <th>10240</th>\n",
       "      <td>10070</td>\n",
       "      <td>AA5TINW2RJ195</td>\n",
       "      <td>B00BKXN9LS</td>\n",
       "      <td>TheSunrisePost</td>\n",
       "      <td>[0, 0]</td>\n",
       "      <td>Love it, I finally found one that supports my ...</td>\n",
       "      <td>5.0</td>\n",
       "      <td>Five Stars</td>\n",
       "      <td>1405382400</td>\n",
       "      <td>07 15, 2014</td>\n",
       "    </tr>\n",
       "    <tr>\n",
       "      <th>10241</th>\n",
       "      <td>7603</td>\n",
       "      <td>AA5TINW2RJ195</td>\n",
       "      <td>B0037M62AK</td>\n",
       "      <td>NaN</td>\n",
       "      <td>[0, 0]</td>\n",
       "      <td>Good strap, very comfortable and strong.</td>\n",
       "      <td>5.0</td>\n",
       "      <td>Five Stars</td>\n",
       "      <td>1405382400</td>\n",
       "      <td>07 15, 2014</td>\n",
       "    </tr>\n",
       "    <tr>\n",
       "      <th>10242</th>\n",
       "      <td>667</td>\n",
       "      <td>AA5TINW2RJ195</td>\n",
       "      <td>B0002D01K4</td>\n",
       "      <td>NaN</td>\n",
       "      <td>[0, 0]</td>\n",
       "      <td>At first it look small for my guitar but it fi...</td>\n",
       "      <td>5.0</td>\n",
       "      <td>Love it!</td>\n",
       "      <td>1405382400</td>\n",
       "      <td>07 15, 2014</td>\n",
       "    </tr>\n",
       "    <tr>\n",
       "      <th>10243</th>\n",
       "      <td>41</td>\n",
       "      <td>AA5TINW2RJ195</td>\n",
       "      <td>B000068NW5</td>\n",
       "      <td>NaN</td>\n",
       "      <td>[0, 0]</td>\n",
       "      <td>Good quality cable and sounds very good</td>\n",
       "      <td>5.0</td>\n",
       "      <td>Five Stars</td>\n",
       "      <td>1405382400</td>\n",
       "      <td>07 15, 2014</td>\n",
       "    </tr>\n",
       "    <tr>\n",
       "      <th>10244</th>\n",
       "      <td>10260</td>\n",
       "      <td>A2WA8TDCTGUADI</td>\n",
       "      <td>B00JBIVXGC</td>\n",
       "      <td>TheTerrorBeyond</td>\n",
       "      <td>[0, 0]</td>\n",
       "      <td>These strings are really quite good, but I wou...</td>\n",
       "      <td>4.0</td>\n",
       "      <td>These strings are really quite good, but I wou...</td>\n",
       "      <td>1405468800</td>\n",
       "      <td>07 16, 2014</td>\n",
       "    </tr>\n",
       "    <tr>\n",
       "      <th>10245</th>\n",
       "      <td>10048</td>\n",
       "      <td>A35QR07ZW63T65</td>\n",
       "      <td>B00BG6ZM0K</td>\n",
       "      <td>Tobias L Merriman</td>\n",
       "      <td>[0, 0]</td>\n",
       "      <td>Works perfectly.  Got the drivers for Mac from...</td>\n",
       "      <td>5.0</td>\n",
       "      <td>Very easy to use</td>\n",
       "      <td>1405468800</td>\n",
       "      <td>07 16, 2014</td>\n",
       "    </tr>\n",
       "    <tr>\n",
       "      <th>10246</th>\n",
       "      <td>10246</td>\n",
       "      <td>A29B4PAIOL7HYG</td>\n",
       "      <td>B00J4TBMVO</td>\n",
       "      <td>N. Caruso \"gibsonjunkie\"</td>\n",
       "      <td>[0, 0]</td>\n",
       "      <td>I had the opportunity to try a set of Elixir N...</td>\n",
       "      <td>5.0</td>\n",
       "      <td>Great sounding and playing strings!</td>\n",
       "      <td>1405728000</td>\n",
       "      <td>07 19, 2014</td>\n",
       "    </tr>\n",
       "    <tr>\n",
       "      <th>10247</th>\n",
       "      <td>10113</td>\n",
       "      <td>A3KOWHTH4J4ZIK</td>\n",
       "      <td>B00BU9KCXK</td>\n",
       "      <td>DJB</td>\n",
       "      <td>[0, 0]</td>\n",
       "      <td>This guitar stand is as basic as you can get.H...</td>\n",
       "      <td>5.0</td>\n",
       "      <td>Very good basic guitar stand</td>\n",
       "      <td>1405728000</td>\n",
       "      <td>07 19, 2014</td>\n",
       "    </tr>\n",
       "    <tr>\n",
       "      <th>10248</th>\n",
       "      <td>7866</td>\n",
       "      <td>A3NHUK1ISMZCFZ</td>\n",
       "      <td>B003CLIPHO</td>\n",
       "      <td>NaN</td>\n",
       "      <td>[0, 0]</td>\n",
       "      <td>Works awesome :)</td>\n",
       "      <td>5.0</td>\n",
       "      <td>Five Stars</td>\n",
       "      <td>1405814400</td>\n",
       "      <td>07 20, 2014</td>\n",
       "    </tr>\n",
       "    <tr>\n",
       "      <th>10249</th>\n",
       "      <td>5577</td>\n",
       "      <td>A3NHUK1ISMZCFZ</td>\n",
       "      <td>B000SZVYLQ</td>\n",
       "      <td>NaN</td>\n",
       "      <td>[0, 0]</td>\n",
       "      <td>Love these pedals good buy</td>\n",
       "      <td>5.0</td>\n",
       "      <td>Five Stars</td>\n",
       "      <td>1405814400</td>\n",
       "      <td>07 20, 2014</td>\n",
       "    </tr>\n",
       "    <tr>\n",
       "      <th>10250</th>\n",
       "      <td>9058</td>\n",
       "      <td>A3NHUK1ISMZCFZ</td>\n",
       "      <td>B005CX4GLE</td>\n",
       "      <td>NaN</td>\n",
       "      <td>[0, 0]</td>\n",
       "      <td>Work awesome :)</td>\n",
       "      <td>5.0</td>\n",
       "      <td>Five Stars</td>\n",
       "      <td>1405814400</td>\n",
       "      <td>07 20, 2014</td>\n",
       "    </tr>\n",
       "    <tr>\n",
       "      <th>10251</th>\n",
       "      <td>5165</td>\n",
       "      <td>A3NHUK1ISMZCFZ</td>\n",
       "      <td>B000NJ2TIE</td>\n",
       "      <td>NaN</td>\n",
       "      <td>[0, 0]</td>\n",
       "      <td>There good mics</td>\n",
       "      <td>5.0</td>\n",
       "      <td>Five Stars</td>\n",
       "      <td>1405814400</td>\n",
       "      <td>07 20, 2014</td>\n",
       "    </tr>\n",
       "    <tr>\n",
       "      <th>10252</th>\n",
       "      <td>3962</td>\n",
       "      <td>A3NHUK1ISMZCFZ</td>\n",
       "      <td>B0009EU01G</td>\n",
       "      <td>NaN</td>\n",
       "      <td>[0, 0]</td>\n",
       "      <td>They say there the best there not wrong wool a...</td>\n",
       "      <td>5.0</td>\n",
       "      <td>Five Stars</td>\n",
       "      <td>1405814400</td>\n",
       "      <td>07 20, 2014</td>\n",
       "    </tr>\n",
       "    <tr>\n",
       "      <th>10253</th>\n",
       "      <td>1001</td>\n",
       "      <td>A3NHUK1ISMZCFZ</td>\n",
       "      <td>B0002D0DWK</td>\n",
       "      <td>NaN</td>\n",
       "      <td>[0, 0]</td>\n",
       "      <td>The best buy for your bass drum</td>\n",
       "      <td>5.0</td>\n",
       "      <td>Five Stars</td>\n",
       "      <td>1405814400</td>\n",
       "      <td>07 20, 2014</td>\n",
       "    </tr>\n",
       "    <tr>\n",
       "      <th>10254</th>\n",
       "      <td>10256</td>\n",
       "      <td>A14B2YH83ZXMPP</td>\n",
       "      <td>B00JBIVXGC</td>\n",
       "      <td>Lonnie M. Adams</td>\n",
       "      <td>[0, 0]</td>\n",
       "      <td>Great, just as expected.  Thank to all.</td>\n",
       "      <td>5.0</td>\n",
       "      <td>Five Stars</td>\n",
       "      <td>1405814400</td>\n",
       "      <td>07 20, 2014</td>\n",
       "    </tr>\n",
       "    <tr>\n",
       "      <th>10255</th>\n",
       "      <td>6937</td>\n",
       "      <td>A3NHUK1ISMZCFZ</td>\n",
       "      <td>B001REJX1U</td>\n",
       "      <td>NaN</td>\n",
       "      <td>[0, 0]</td>\n",
       "      <td>Works good.good buy</td>\n",
       "      <td>5.0</td>\n",
       "      <td>Five Stars</td>\n",
       "      <td>1405814400</td>\n",
       "      <td>07 20, 2014</td>\n",
       "    </tr>\n",
       "    <tr>\n",
       "      <th>10256</th>\n",
       "      <td>10119</td>\n",
       "      <td>A1P9JI4TR933JX</td>\n",
       "      <td>B00BU9KCXK</td>\n",
       "      <td>Joseph Durall</td>\n",
       "      <td>[0, 0]</td>\n",
       "      <td>I needed an inexpensive music stand for my gui...</td>\n",
       "      <td>5.0</td>\n",
       "      <td>very nice</td>\n",
       "      <td>1405814400</td>\n",
       "      <td>07 20, 2014</td>\n",
       "    </tr>\n",
       "    <tr>\n",
       "      <th>10257</th>\n",
       "      <td>10215</td>\n",
       "      <td>A27L5L6I7OSV5B</td>\n",
       "      <td>B00HFRXACG</td>\n",
       "      <td>Otto Correct</td>\n",
       "      <td>[0, 0]</td>\n",
       "      <td>These are some bright strings!I play with a pi...</td>\n",
       "      <td>5.0</td>\n",
       "      <td>Great for the price!</td>\n",
       "      <td>1405900800</td>\n",
       "      <td>07 21, 2014</td>\n",
       "    </tr>\n",
       "    <tr>\n",
       "      <th>10258</th>\n",
       "      <td>10253</td>\n",
       "      <td>A2VRAT69JDAD3W</td>\n",
       "      <td>B00JBIVXGC</td>\n",
       "      <td>Jason Whitt \"Whittmeister\"</td>\n",
       "      <td>[0, 0]</td>\n",
       "      <td>I'm a D'Addario man myself, but hey free is fr...</td>\n",
       "      <td>4.0</td>\n",
       "      <td>I'm a D'Addario man myself, but hey free is ...</td>\n",
       "      <td>1405900800</td>\n",
       "      <td>07 21, 2014</td>\n",
       "    </tr>\n",
       "    <tr>\n",
       "      <th>10259</th>\n",
       "      <td>10054</td>\n",
       "      <td>A3DJZHSAW4ANH0</td>\n",
       "      <td>B00BHK2UHI</td>\n",
       "      <td>Chandler</td>\n",
       "      <td>[0, 0]</td>\n",
       "      <td>These are durable, but I get some noise from t...</td>\n",
       "      <td>3.0</td>\n",
       "      <td>Three Stars</td>\n",
       "      <td>1405900800</td>\n",
       "      <td>07 21, 2014</td>\n",
       "    </tr>\n",
       "    <tr>\n",
       "      <th>10260</th>\n",
       "      <td>10258</td>\n",
       "      <td>AWCJ12KBO5VII</td>\n",
       "      <td>B00JBIVXGC</td>\n",
       "      <td>Michael L. Knapp</td>\n",
       "      <td>[0, 0]</td>\n",
       "      <td>I have tried coated strings in the past ( incl...</td>\n",
       "      <td>4.0</td>\n",
       "      <td>Good for coated.</td>\n",
       "      <td>1405987200</td>\n",
       "      <td>07 22, 2014</td>\n",
       "    </tr>\n",
       "  </tbody>\n",
       "</table>\n",
       "<p>10261 rows × 10 columns</p>\n",
       "</div>"
      ],
      "text/plain": [
       "       index      reviewerID        asin  \\\n",
       "0       4420   AV8MDYLHHTUOY  B000CD3QY2   \n",
       "1       7413  A33H0WC9MI8OVW  B002Q0WT6U   \n",
       "2        954  A33H0WC9MI8OVW  B0002D0COE   \n",
       "3       5581  A3SMT15X2QVUR8  B000SZVYLQ   \n",
       "4       1560  A3SMT15X2QVUR8  B0002E2EOE   \n",
       "5       2004  A3SMT15X2QVUR8  B0002F73YY   \n",
       "6       2590  A3SMT15X2QVUR8  B0002GXRF2   \n",
       "7       3721  A1MI9FDCNB3CMR  B0006OHVK2   \n",
       "8       1941   A1RPTVW5VEOSI  B0002F4MKC   \n",
       "9       2632  A2PD27UKAD3Q00  B0002GXZK4   \n",
       "10      3364  A12ABV9NU02O29  B0002MSQVQ   \n",
       "11      5742  A27UAE2PME5TRV  B000VJ2VCK   \n",
       "12       196  A1MI9FDCNB3CMR  B0000AQRST   \n",
       "13      2556  A1MI9FDCNB3CMR  B0002GXF8Q   \n",
       "14       194  A2KI91IR3RA7D0  B0000AQRST   \n",
       "15       208  A2KI91IR3RA7D0  B0000AQRSU   \n",
       "16      3881  A2G2DXPFZKG48W  B000978D58   \n",
       "17      1426  A3SDJ70H00OQCJ  B0002E1NNM   \n",
       "18      4254  A30J7WQV0ZNRXG  B000BBRZ3S   \n",
       "19      4256   AU3GYRAKBUAEU  B000BBRZ3S   \n",
       "20      3776  A30J7WQV0ZNRXG  B0007GGUGA   \n",
       "21      1545  A30J7WQV0ZNRXG  B0002E1O90   \n",
       "22      1448  A30J7WQV0ZNRXG  B0002E1O2C   \n",
       "23       261   A5ZS85C5V40S8  B0002CZR3G   \n",
       "24      3946   A5ZS85C5V40S8  B0009DXEEM   \n",
       "25      7405  A3SDJ70H00OQCJ  B002Q0WSO8   \n",
       "26      3730    A6FIAB28IS79  B0006VMBHI   \n",
       "27      4539  A33H0WC9MI8OVW  B000EEHMXA   \n",
       "28      4194   AEMC16IPBZORW  B000B6DHAS   \n",
       "29       460   AEMC16IPBZORW  B0002CZVI2   \n",
       "...      ...             ...         ...   \n",
       "10231   2233  A2T8JRVJRVNX8R  B0002GJ6FC   \n",
       "10232   5936   AKP6IWJ24C1A5  B000XXBHA6   \n",
       "10233   9766  A3BMYEA3J6RBVV  B007YWHIP2   \n",
       "10234   4711   AKP6IWJ24C1A5  B000EEN9OG   \n",
       "10235   4769  A3MONHA5DCPPLZ  B000H2BC4E   \n",
       "10236  10202  A356RFKNIG043B  B00H02C9TG   \n",
       "10237  10123  A2JQWSA0GPVSQN  B00BU9KCXK   \n",
       "10238  10199  A14JBDSWKPKTZA  B00H02C9TG   \n",
       "10239   2591   AA5TINW2RJ195  B0002GXV2Q   \n",
       "10240  10070   AA5TINW2RJ195  B00BKXN9LS   \n",
       "10241   7603   AA5TINW2RJ195  B0037M62AK   \n",
       "10242    667   AA5TINW2RJ195  B0002D01K4   \n",
       "10243     41   AA5TINW2RJ195  B000068NW5   \n",
       "10244  10260  A2WA8TDCTGUADI  B00JBIVXGC   \n",
       "10245  10048  A35QR07ZW63T65  B00BG6ZM0K   \n",
       "10246  10246  A29B4PAIOL7HYG  B00J4TBMVO   \n",
       "10247  10113  A3KOWHTH4J4ZIK  B00BU9KCXK   \n",
       "10248   7866  A3NHUK1ISMZCFZ  B003CLIPHO   \n",
       "10249   5577  A3NHUK1ISMZCFZ  B000SZVYLQ   \n",
       "10250   9058  A3NHUK1ISMZCFZ  B005CX4GLE   \n",
       "10251   5165  A3NHUK1ISMZCFZ  B000NJ2TIE   \n",
       "10252   3962  A3NHUK1ISMZCFZ  B0009EU01G   \n",
       "10253   1001  A3NHUK1ISMZCFZ  B0002D0DWK   \n",
       "10254  10256  A14B2YH83ZXMPP  B00JBIVXGC   \n",
       "10255   6937  A3NHUK1ISMZCFZ  B001REJX1U   \n",
       "10256  10119  A1P9JI4TR933JX  B00BU9KCXK   \n",
       "10257  10215  A27L5L6I7OSV5B  B00HFRXACG   \n",
       "10258  10253  A2VRAT69JDAD3W  B00JBIVXGC   \n",
       "10259  10054  A3DJZHSAW4ANH0  B00BHK2UHI   \n",
       "10260  10258   AWCJ12KBO5VII  B00JBIVXGC   \n",
       "\n",
       "                                           reviewerName     helpful  \\\n",
       "0                              Amazon Customer \"eyegor\"    [18, 19]   \n",
       "1                                             Clare Chu    [12, 13]   \n",
       "2                                             Clare Chu     [9, 11]   \n",
       "3      Victoria Tarrani \"writer, editor, artist, des...    [63, 63]   \n",
       "4      Victoria Tarrani \"writer, editor, artist, des...    [58, 59]   \n",
       "5      Victoria Tarrani \"writer, editor, artist, des...    [21, 22]   \n",
       "6      Victoria Tarrani \"writer, editor, artist, des...    [22, 22]   \n",
       "7                         Jorge Barbarosa \"the_bassist\"    [12, 13]   \n",
       "8                                    Michael J. Edelman      [8, 9]   \n",
       "9                  Wilhelmina Zeitgeist \"coolartsybabe\"  [156, 160]   \n",
       "10                                             C. Longo      [1, 1]   \n",
       "11                                                  kwb      [3, 3]   \n",
       "12                        Jorge Barbarosa \"the_bassist\"    [15, 18]   \n",
       "13                        Jorge Barbarosa \"the_bassist\"    [11, 24]   \n",
       "14                                      David L. Vasser    [73, 76]   \n",
       "15                                      David L. Vasser  [246, 259]   \n",
       "16                                          Audio Maven    [52, 57]   \n",
       "17                                          JerryWithaJ    [32, 34]   \n",
       "18                            D. Reinstein \"marindavid\"  [114, 130]   \n",
       "19                                           Jon Norris     [8, 13]   \n",
       "20                            D. Reinstein \"marindavid\"    [28, 32]   \n",
       "21                            D. Reinstein \"marindavid\"      [4, 5]   \n",
       "22                            D. Reinstein \"marindavid\"      [2, 3]   \n",
       "23                                              S. Graf      [3, 3]   \n",
       "24                                              S. Graf      [2, 3]   \n",
       "25                                          JerryWithaJ  [188, 193]   \n",
       "26                                         Samuel Chell    [10, 20]   \n",
       "27                                            Clare Chu    [42, 43]   \n",
       "28                                               H town    [38, 40]   \n",
       "29                                               H town    [12, 12]   \n",
       "...                                                 ...         ...   \n",
       "10231                                               NaN      [0, 0]   \n",
       "10232                                               NaN      [0, 0]   \n",
       "10233                                             Y. Xu      [0, 0]   \n",
       "10234                                               NaN      [0, 0]   \n",
       "10235                                               NaN      [0, 0]   \n",
       "10236                                        K. Swanson      [0, 1]   \n",
       "10237                                            ManUPT      [0, 1]   \n",
       "10238                     Bob Feeser \"MillCrafters.com\"      [0, 0]   \n",
       "10239                                               NaN      [0, 0]   \n",
       "10240                                    TheSunrisePost      [0, 0]   \n",
       "10241                                               NaN      [0, 0]   \n",
       "10242                                               NaN      [0, 0]   \n",
       "10243                                               NaN      [0, 0]   \n",
       "10244                                   TheTerrorBeyond      [0, 0]   \n",
       "10245                                 Tobias L Merriman      [0, 0]   \n",
       "10246                          N. Caruso \"gibsonjunkie\"      [0, 0]   \n",
       "10247                                               DJB      [0, 0]   \n",
       "10248                                               NaN      [0, 0]   \n",
       "10249                                               NaN      [0, 0]   \n",
       "10250                                               NaN      [0, 0]   \n",
       "10251                                               NaN      [0, 0]   \n",
       "10252                                               NaN      [0, 0]   \n",
       "10253                                               NaN      [0, 0]   \n",
       "10254                                   Lonnie M. Adams      [0, 0]   \n",
       "10255                                               NaN      [0, 0]   \n",
       "10256                                     Joseph Durall      [0, 0]   \n",
       "10257                                      Otto Correct      [0, 0]   \n",
       "10258                        Jason Whitt \"Whittmeister\"      [0, 0]   \n",
       "10259                                          Chandler      [0, 0]   \n",
       "10260                                  Michael L. Knapp      [0, 0]   \n",
       "\n",
       "                                              reviewText  overall  \\\n",
       "0      The ability to quickly change the range and se...      4.0   \n",
       "1      Jade rosin gives a extra grippiness to the bow...      5.0   \n",
       "2      This compact humidifier is easily filled with ...      5.0   \n",
       "3      When I purchased this pedal from a local music...      5.0   \n",
       "4      I purchased this key on a whim.  When it arriv...      5.0   \n",
       "5      This is an ingenious clutch that engages when ...      5.0   \n",
       "6      These heads are virtually indestructable and p...      5.0   \n",
       "7      Flatwound? Ribbon wound?  It's all the same, n...      5.0   \n",
       "8      I was in a local music store the other day and...      4.0   \n",
       "9      I was thrilled when my guitar arrived and even...      5.0   \n",
       "10     The Rat has been used by everyone from David G...      5.0   \n",
       "11     I ordered this bench for last Christmas (2005)...      5.0   \n",
       "12     Seriously?  The Shure SM57 sets the standard, ...      5.0   \n",
       "13     Okay,  Color coding is a GREAT idea.Divas will...      1.0   \n",
       "14     Although this mic is now considered primarily ...      5.0   \n",
       "15     The first rule of microphones is that, \"No one...      4.0   \n",
       "16     This stand is very flexible in the way it can ...      5.0   \n",
       "17     There's NO SUCH THING as a \"best string\".  Fro...      4.0   \n",
       "18     A Little History:I have been a guitar player f...      5.0   \n",
       "19     This is a nice little tuner. It is small, easy...      3.0   \n",
       "20     This new type and design of capos, manufactued...      5.0   \n",
       "21     I have tried many types of steel strings.  My ...      5.0   \n",
       "22     Taylor ships this guitar with these strings - ...      5.0   \n",
       "23     Hello Musicfriends - This is built cheap but s...      4.0   \n",
       "24     Musicfriends, This is a fab item - For 20.00 Y...      4.0   \n",
       "25     The Intelli IMT-500--The tuner that killed the...      5.0   \n",
       "26     The version I picked came with a grounding wir...      2.0   \n",
       "27     The J74's are sort of the default string that ...      4.0   \n",
       "28     This is 10 watt walkman size guitar amplifier....      4.0   \n",
       "29     I use this mostly with my Honeytone mini ampli...      5.0   \n",
       "...                                                  ...      ...   \n",
       "10231  This headstand works like a charm. It's simple...      5.0   \n",
       "10232  I have no idea what happened or if anyone else...      1.0   \n",
       "10233  Can't hold tightly on 1st string (low C), a li...      2.0   \n",
       "10234  Works great for the price!! I just started to ...      5.0   \n",
       "10235  Works as advertised for my purpose. It is in f...      4.0   \n",
       "10236  4.6 starsMy main concern with adapters like th...      5.0   \n",
       "10237  The stand works great. It supports my Casio CT...      5.0   \n",
       "10238  Notice in the name guitar INPUT. This is not t...      5.0   \n",
       "10239                       Good short cable, plugs easy      4.0   \n",
       "10240  Love it, I finally found one that supports my ...      5.0   \n",
       "10241           Good strap, very comfortable and strong.      5.0   \n",
       "10242  At first it look small for my guitar but it fi...      5.0   \n",
       "10243            Good quality cable and sounds very good      5.0   \n",
       "10244  These strings are really quite good, but I wou...      4.0   \n",
       "10245  Works perfectly.  Got the drivers for Mac from...      5.0   \n",
       "10246  I had the opportunity to try a set of Elixir N...      5.0   \n",
       "10247  This guitar stand is as basic as you can get.H...      5.0   \n",
       "10248                                   Works awesome :)      5.0   \n",
       "10249                         Love these pedals good buy      5.0   \n",
       "10250                                    Work awesome :)      5.0   \n",
       "10251                                    There good mics      5.0   \n",
       "10252  They say there the best there not wrong wool a...      5.0   \n",
       "10253                    The best buy for your bass drum      5.0   \n",
       "10254            Great, just as expected.  Thank to all.      5.0   \n",
       "10255                                Works good.good buy      5.0   \n",
       "10256  I needed an inexpensive music stand for my gui...      5.0   \n",
       "10257  These are some bright strings!I play with a pi...      5.0   \n",
       "10258  I'm a D'Addario man myself, but hey free is fr...      4.0   \n",
       "10259  These are durable, but I get some noise from t...      3.0   \n",
       "10260  I have tried coated strings in the past ( incl...      4.0   \n",
       "\n",
       "                                                 summary  unixReviewTime  \\\n",
       "0                                              GREAT Wah      1095465600   \n",
       "1                                 Excellent sticky rosin      1096416000   \n",
       "2                            Very Easy to Use, Non-Messy      1096416000   \n",
       "3                     Competes with many high-end pedals      1101686400   \n",
       "4                   This actually works - and works well      1101686400   \n",
       "5                Essential for double bass pedal players      1101686400   \n",
       "6                                       Perfect for rock      1101859200   \n",
       "7                                           No Squeaking      1106870400   \n",
       "8                                            Not bad...!      1110499200   \n",
       "9      This guitar DOES have a BIG SOUND for a small ...      1111708800   \n",
       "10                            Incredibly versatile pedal      1127865600   \n",
       "11                      Mine came with height adjustment      1136592000   \n",
       "12                                     Industry Standard      1140912000   \n",
       "13                 Color Coding Helps the sound engineer      1141344000   \n",
       "14                    Best all around for over 30 years!      1147651200   \n",
       "15                                 Good for vocals only!      1147737600   \n",
       "16                             necessary for home studio      1150243200   \n",
       "17                                         It depends...      1151107200   \n",
       "18            From the Ice-Age to the New-Age for cheap!      1154131200   \n",
       "19                        missing one important function      1161388800   \n",
       "20                 You Get What You Pay For (Sometimes!)      1166400000   \n",
       "21                       The best sound on my Taylor 355      1169856000   \n",
       "22          They sound lovely on my Taylor 355 12-string      1172534400   \n",
       "23                           Built cheap - Sounds great!      1174608000   \n",
       "24                  20.00!!!  You can't go wrong on this      1174608000   \n",
       "25           Finally!  Amazon offers the Intelli IMT-500      1177027200   \n",
       "26                                    Belief is the key.      1190678400   \n",
       "27                               Bright, Brassy when New      1190937600   \n",
       "28                      Good amp. for on the go jamming.      1192406400   \n",
       "29                      Great for any Danlectro product.      1192492800   \n",
       "...                                                  ...             ...   \n",
       "10231                                 Best overall value      1405209600   \n",
       "10232   Item was NOT like it was described. Be careful!!      1405209600   \n",
       "10233                                          Two Stars      1405209600   \n",
       "10234                             Danelectro is alright.      1405209600   \n",
       "10235                   Using it as an amp for a TV set.      1405296000   \n",
       "10236  Good clear A/D, almost no latency, and works w...      1405296000   \n",
       "10237                              Keyboard Stand Review      1405296000   \n",
       "10238  Getting in the door with Apogees incredible so...      1405296000   \n",
       "10239                                         Four Stars      1405382400   \n",
       "10240                                         Five Stars      1405382400   \n",
       "10241                                         Five Stars      1405382400   \n",
       "10242                                           Love it!      1405382400   \n",
       "10243                                         Five Stars      1405382400   \n",
       "10244  These strings are really quite good, but I wou...      1405468800   \n",
       "10245                                   Very easy to use      1405468800   \n",
       "10246                Great sounding and playing strings!      1405728000   \n",
       "10247                       Very good basic guitar stand      1405728000   \n",
       "10248                                         Five Stars      1405814400   \n",
       "10249                                         Five Stars      1405814400   \n",
       "10250                                         Five Stars      1405814400   \n",
       "10251                                         Five Stars      1405814400   \n",
       "10252                                         Five Stars      1405814400   \n",
       "10253                                         Five Stars      1405814400   \n",
       "10254                                         Five Stars      1405814400   \n",
       "10255                                         Five Stars      1405814400   \n",
       "10256                                          very nice      1405814400   \n",
       "10257                               Great for the price!      1405900800   \n",
       "10258    I'm a D'Addario man myself, but hey free is ...      1405900800   \n",
       "10259                                        Three Stars      1405900800   \n",
       "10260                                   Good for coated.      1405987200   \n",
       "\n",
       "        reviewTime  \n",
       "0      09 18, 2004  \n",
       "1      09 29, 2004  \n",
       "2      09 29, 2004  \n",
       "3      11 29, 2004  \n",
       "4      11 29, 2004  \n",
       "5      11 29, 2004  \n",
       "6       12 1, 2004  \n",
       "7      01 28, 2005  \n",
       "8      03 11, 2005  \n",
       "9      03 25, 2005  \n",
       "10     09 28, 2005  \n",
       "11      01 7, 2006  \n",
       "12     02 26, 2006  \n",
       "13      03 3, 2006  \n",
       "14     05 15, 2006  \n",
       "15     05 16, 2006  \n",
       "16     06 14, 2006  \n",
       "17     06 24, 2006  \n",
       "18     07 29, 2006  \n",
       "19     10 21, 2006  \n",
       "20     12 18, 2006  \n",
       "21     01 27, 2007  \n",
       "22     02 27, 2007  \n",
       "23     03 23, 2007  \n",
       "24     03 23, 2007  \n",
       "25     04 20, 2007  \n",
       "26     09 25, 2007  \n",
       "27     09 28, 2007  \n",
       "28     10 15, 2007  \n",
       "29     10 16, 2007  \n",
       "...            ...  \n",
       "10231  07 13, 2014  \n",
       "10232  07 13, 2014  \n",
       "10233  07 13, 2014  \n",
       "10234  07 13, 2014  \n",
       "10235  07 14, 2014  \n",
       "10236  07 14, 2014  \n",
       "10237  07 14, 2014  \n",
       "10238  07 14, 2014  \n",
       "10239  07 15, 2014  \n",
       "10240  07 15, 2014  \n",
       "10241  07 15, 2014  \n",
       "10242  07 15, 2014  \n",
       "10243  07 15, 2014  \n",
       "10244  07 16, 2014  \n",
       "10245  07 16, 2014  \n",
       "10246  07 19, 2014  \n",
       "10247  07 19, 2014  \n",
       "10248  07 20, 2014  \n",
       "10249  07 20, 2014  \n",
       "10250  07 20, 2014  \n",
       "10251  07 20, 2014  \n",
       "10252  07 20, 2014  \n",
       "10253  07 20, 2014  \n",
       "10254  07 20, 2014  \n",
       "10255  07 20, 2014  \n",
       "10256  07 20, 2014  \n",
       "10257  07 21, 2014  \n",
       "10258  07 21, 2014  \n",
       "10259  07 21, 2014  \n",
       "10260  07 22, 2014  \n",
       "\n",
       "[10261 rows x 10 columns]"
      ]
     },
     "execution_count": 6,
     "metadata": {},
     "output_type": "execute_result"
    }
   ],
   "source": [
    "rawData.sort_values('unixReviewTime',ascending=True).reset_index() "
   ]
  },
  {
   "cell_type": "code",
   "execution_count": 7,
   "metadata": {
    "scrolled": true
   },
   "outputs": [],
   "source": [
    "rawData.drop(['asin','reviewerName', 'reviewTime','reviewerID','helpful'], inplace = True, axis = 1)"
   ]
  },
  {
   "cell_type": "code",
   "execution_count": 8,
   "metadata": {},
   "outputs": [
    {
     "data": {
      "text/html": [
       "<div>\n",
       "<style scoped>\n",
       "    .dataframe tbody tr th:only-of-type {\n",
       "        vertical-align: middle;\n",
       "    }\n",
       "\n",
       "    .dataframe tbody tr th {\n",
       "        vertical-align: top;\n",
       "    }\n",
       "\n",
       "    .dataframe thead th {\n",
       "        text-align: right;\n",
       "    }\n",
       "</style>\n",
       "<table border=\"1\" class=\"dataframe\">\n",
       "  <thead>\n",
       "    <tr style=\"text-align: right;\">\n",
       "      <th></th>\n",
       "      <th>reviewText</th>\n",
       "      <th>overall</th>\n",
       "      <th>summary</th>\n",
       "      <th>unixReviewTime</th>\n",
       "    </tr>\n",
       "  </thead>\n",
       "  <tbody>\n",
       "    <tr>\n",
       "      <th>0</th>\n",
       "      <td>Not much to write about here, but it does exac...</td>\n",
       "      <td>5.0</td>\n",
       "      <td>good</td>\n",
       "      <td>1393545600</td>\n",
       "    </tr>\n",
       "    <tr>\n",
       "      <th>1</th>\n",
       "      <td>The product does exactly as it should and is q...</td>\n",
       "      <td>5.0</td>\n",
       "      <td>Jake</td>\n",
       "      <td>1363392000</td>\n",
       "    </tr>\n",
       "    <tr>\n",
       "      <th>2</th>\n",
       "      <td>The primary job of this device is to block the...</td>\n",
       "      <td>5.0</td>\n",
       "      <td>It Does The Job Well</td>\n",
       "      <td>1377648000</td>\n",
       "    </tr>\n",
       "    <tr>\n",
       "      <th>3</th>\n",
       "      <td>Nice windscreen protects my MXL mic and preven...</td>\n",
       "      <td>5.0</td>\n",
       "      <td>GOOD WINDSCREEN FOR THE MONEY</td>\n",
       "      <td>1392336000</td>\n",
       "    </tr>\n",
       "    <tr>\n",
       "      <th>4</th>\n",
       "      <td>This pop filter is great. It looks and perform...</td>\n",
       "      <td>5.0</td>\n",
       "      <td>No more pops when I record my vocals.</td>\n",
       "      <td>1392940800</td>\n",
       "    </tr>\n",
       "  </tbody>\n",
       "</table>\n",
       "</div>"
      ],
      "text/plain": [
       "                                          reviewText  overall  \\\n",
       "0  Not much to write about here, but it does exac...      5.0   \n",
       "1  The product does exactly as it should and is q...      5.0   \n",
       "2  The primary job of this device is to block the...      5.0   \n",
       "3  Nice windscreen protects my MXL mic and preven...      5.0   \n",
       "4  This pop filter is great. It looks and perform...      5.0   \n",
       "\n",
       "                                 summary  unixReviewTime  \n",
       "0                                   good      1393545600  \n",
       "1                                   Jake      1363392000  \n",
       "2                   It Does The Job Well      1377648000  \n",
       "3          GOOD WINDSCREEN FOR THE MONEY      1392336000  \n",
       "4  No more pops when I record my vocals.      1392940800  "
      ]
     },
     "execution_count": 8,
     "metadata": {},
     "output_type": "execute_result"
    }
   ],
   "source": [
    "rawData.head()"
   ]
  },
  {
   "cell_type": "code",
   "execution_count": 16,
   "metadata": {},
   "outputs": [],
   "source": [
    "reviewTextNsummary = rawData[['reviewText','summary']]\n",
    "ratings = rawData[['overall']]"
   ]
  },
  {
   "cell_type": "code",
   "execution_count": 17,
   "metadata": {},
   "outputs": [
    {
     "data": {
      "text/html": [
       "<div>\n",
       "<style scoped>\n",
       "    .dataframe tbody tr th:only-of-type {\n",
       "        vertical-align: middle;\n",
       "    }\n",
       "\n",
       "    .dataframe tbody tr th {\n",
       "        vertical-align: top;\n",
       "    }\n",
       "\n",
       "    .dataframe thead th {\n",
       "        text-align: right;\n",
       "    }\n",
       "</style>\n",
       "<table border=\"1\" class=\"dataframe\">\n",
       "  <thead>\n",
       "    <tr style=\"text-align: right;\">\n",
       "      <th></th>\n",
       "      <th>overall</th>\n",
       "    </tr>\n",
       "  </thead>\n",
       "  <tbody>\n",
       "    <tr>\n",
       "      <th>0</th>\n",
       "      <td>5.0</td>\n",
       "    </tr>\n",
       "    <tr>\n",
       "      <th>1</th>\n",
       "      <td>5.0</td>\n",
       "    </tr>\n",
       "    <tr>\n",
       "      <th>2</th>\n",
       "      <td>5.0</td>\n",
       "    </tr>\n",
       "    <tr>\n",
       "      <th>3</th>\n",
       "      <td>5.0</td>\n",
       "    </tr>\n",
       "    <tr>\n",
       "      <th>4</th>\n",
       "      <td>5.0</td>\n",
       "    </tr>\n",
       "  </tbody>\n",
       "</table>\n",
       "</div>"
      ],
      "text/plain": [
       "   overall\n",
       "0      5.0\n",
       "1      5.0\n",
       "2      5.0\n",
       "3      5.0\n",
       "4      5.0"
      ]
     },
     "execution_count": 17,
     "metadata": {},
     "output_type": "execute_result"
    }
   ],
   "source": [
    "reviewTextNsummary.head()\n",
    "ratings.head()"
   ]
  },
  {
   "cell_type": "code",
   "execution_count": 18,
   "metadata": {},
   "outputs": [],
   "source": [
    "def newRatings(vals):\n",
    "    if vals > 3.0:\n",
    "        return 1.0\n",
    "    else:\n",
    "        return 0.0"
   ]
  },
  {
   "cell_type": "code",
   "execution_count": 19,
   "metadata": {
    "scrolled": true
   },
   "outputs": [],
   "source": [
    "ratings = ratings['overall'].apply(newRatings)"
   ]
  },
  {
   "cell_type": "code",
   "execution_count": 21,
   "metadata": {},
   "outputs": [
    {
     "data": {
      "text/plain": [
       "0    1.0\n",
       "1    1.0\n",
       "2    1.0\n",
       "3    1.0\n",
       "4    1.0\n",
       "Name: overall, dtype: float64"
      ]
     },
     "execution_count": 21,
     "metadata": {},
     "output_type": "execute_result"
    }
   ],
   "source": [
    "ratings.head()"
   ]
  },
  {
   "cell_type": "markdown",
   "metadata": {},
   "source": [
    "### Text -Data Processing \n",
    "\n",
    "#### Data Filtering\n",
    "1. Convert all sentences into lower case\n",
    "2. Remove special symbols\n",
    "3. Remove urls\n",
    "4. Remove digits\n",
    "5. Convert i've, can't into i have can not etc.\n",
    "\n",
    "#### NLP Processing\n",
    "1. Tokenize sentences\n",
    "2. remove stopwords\n",
    "3. Apply Stemming/Lemmatization\n",
    "4. Convert text words into numerical vectors using\n",
    "    1. Bag of Words\n",
    "    2. TFIDF\n",
    "    3. Word2Vec\n",
    "    4. Average word2vec"
   ]
  },
  {
   "cell_type": "code",
   "execution_count": 22,
   "metadata": {},
   "outputs": [
    {
     "data": {
      "text/html": [
       "<div>\n",
       "<style scoped>\n",
       "    .dataframe tbody tr th:only-of-type {\n",
       "        vertical-align: middle;\n",
       "    }\n",
       "\n",
       "    .dataframe tbody tr th {\n",
       "        vertical-align: top;\n",
       "    }\n",
       "\n",
       "    .dataframe thead th {\n",
       "        text-align: right;\n",
       "    }\n",
       "</style>\n",
       "<table border=\"1\" class=\"dataframe\">\n",
       "  <thead>\n",
       "    <tr style=\"text-align: right;\">\n",
       "      <th></th>\n",
       "      <th>reviewText</th>\n",
       "      <th>overall</th>\n",
       "      <th>summary</th>\n",
       "      <th>unixReviewTime</th>\n",
       "    </tr>\n",
       "  </thead>\n",
       "  <tbody>\n",
       "    <tr>\n",
       "      <th>0</th>\n",
       "      <td>Not much to write about here, but it does exac...</td>\n",
       "      <td>5.0</td>\n",
       "      <td>good</td>\n",
       "      <td>1393545600</td>\n",
       "    </tr>\n",
       "    <tr>\n",
       "      <th>1</th>\n",
       "      <td>The product does exactly as it should and is q...</td>\n",
       "      <td>5.0</td>\n",
       "      <td>Jake</td>\n",
       "      <td>1363392000</td>\n",
       "    </tr>\n",
       "    <tr>\n",
       "      <th>2</th>\n",
       "      <td>The primary job of this device is to block the...</td>\n",
       "      <td>5.0</td>\n",
       "      <td>It Does The Job Well</td>\n",
       "      <td>1377648000</td>\n",
       "    </tr>\n",
       "    <tr>\n",
       "      <th>3</th>\n",
       "      <td>Nice windscreen protects my MXL mic and preven...</td>\n",
       "      <td>5.0</td>\n",
       "      <td>GOOD WINDSCREEN FOR THE MONEY</td>\n",
       "      <td>1392336000</td>\n",
       "    </tr>\n",
       "    <tr>\n",
       "      <th>4</th>\n",
       "      <td>This pop filter is great. It looks and perform...</td>\n",
       "      <td>5.0</td>\n",
       "      <td>No more pops when I record my vocals.</td>\n",
       "      <td>1392940800</td>\n",
       "    </tr>\n",
       "  </tbody>\n",
       "</table>\n",
       "</div>"
      ],
      "text/plain": [
       "                                          reviewText  overall  \\\n",
       "0  Not much to write about here, but it does exac...      5.0   \n",
       "1  The product does exactly as it should and is q...      5.0   \n",
       "2  The primary job of this device is to block the...      5.0   \n",
       "3  Nice windscreen protects my MXL mic and preven...      5.0   \n",
       "4  This pop filter is great. It looks and perform...      5.0   \n",
       "\n",
       "                                 summary  unixReviewTime  \n",
       "0                                   good      1393545600  \n",
       "1                                   Jake      1363392000  \n",
       "2                   It Does The Job Well      1377648000  \n",
       "3          GOOD WINDSCREEN FOR THE MONEY      1392336000  \n",
       "4  No more pops when I record my vocals.      1392940800  "
      ]
     },
     "execution_count": 22,
     "metadata": {},
     "output_type": "execute_result"
    }
   ],
   "source": [
    "rawData.head(5)"
   ]
  },
  {
   "cell_type": "code",
   "execution_count": 23,
   "metadata": {},
   "outputs": [
    {
     "name": "stdout",
     "output_type": "stream",
     "text": [
      "<class 'pandas.core.frame.DataFrame'>\n",
      "RangeIndex: 10261 entries, 0 to 10260\n",
      "Data columns (total 4 columns):\n",
      "reviewText        10261 non-null object\n",
      "overall           10261 non-null float64\n",
      "summary           10261 non-null object\n",
      "unixReviewTime    10261 non-null int64\n",
      "dtypes: float64(1), int64(1), object(2)\n",
      "memory usage: 320.7+ KB\n"
     ]
    }
   ],
   "source": [
    "rawData.info()"
   ]
  },
  {
   "cell_type": "markdown",
   "metadata": {},
   "source": [
    "### Data Filtering"
   ]
  },
  {
   "cell_type": "code",
   "execution_count": 24,
   "metadata": {},
   "outputs": [],
   "source": [
    "contractions = {\n",
    "\"ain't\": \"am not / are not\",\n",
    "\"aren't\": \"are not / am not\",\n",
    "\"can't\": \"cannot\",\n",
    "\"can't've\": \"cannot have\",\n",
    "\"'cause\": \"because\",\n",
    "\"could've\": \"could have\",\n",
    "\"couldn't\": \"could not\",\n",
    "\"couldn't've\": \"could not have\",\n",
    "\"didn't\": \"did not\",\n",
    "\"doesn't\": \"does not\",\n",
    "\"don't\": \"do not\",\n",
    "\"hadn't\": \"had not\",\n",
    "\"hadn't've\": \"had not have\",\n",
    "\"hasn't\": \"has not\",\n",
    "\"haven't\": \"have not\",\n",
    "\"he'd\": \"he had / he would\",\n",
    "\"he'd've\": \"he would have\",\n",
    "\"he'll\": \"he shall / he will\",\n",
    "\"he'll've\": \"he shall have / he will have\",\n",
    "\"he's\": \"he has / he is\",\n",
    "\"how'd\": \"how did\",\n",
    "\"how'd'y\": \"how do you\",\n",
    "\"how'll\": \"how will\",\n",
    "\"how's\": \"how has / how is\",\n",
    "\"i'd\": \"I had / I would\",\n",
    "\"i'd've\": \"I would have\",\n",
    "\"i'll\": \"I shall / I will\",\n",
    "\"i'll've\": \"I shall have / I will have\",\n",
    "\"i'm\": \"I am\",\n",
    "\"i've\": \"I have\",\n",
    "\"isn't\": \"is not\",\n",
    "\"it'd\": \"it had / it would\",\n",
    "\"it'd've\": \"it would have\",\n",
    "\"it'll\": \"it shall / it will\",\n",
    "\"it'll've\": \"it shall have / it will have\",\n",
    "\"it's\": \"it has / it is\",\n",
    "\"let's\": \"let us\",\n",
    "\"ma'am\": \"madam\",\n",
    "\"mayn't\": \"may not\",\n",
    "\"might've\": \"might have\",\n",
    "\"mightn't\": \"might not\",\n",
    "\"mightn't've\": \"might not have\",\n",
    "\"must've\": \"must have\",\n",
    "\"mustn't\": \"must not\",\n",
    "\"mustn't've\": \"must not have\",\n",
    "\"needn't\": \"need not\",\n",
    "\"needn't've\": \"need not have\",\n",
    "\"o'clock\": \"of the clock\",\n",
    "\"oughtn't\": \"ought not\",\n",
    "\"oughtn't've\": \"ought not have\",\n",
    "\"shan't\": \"shall not\",\n",
    "\"sha'n't\": \"shall not\",\n",
    "\"shan't've\": \"shall not have\",\n",
    "\"she'd\": \"she had / she would\",\n",
    "\"she'd've\": \"she would have\",\n",
    "\"she'll\": \"she shall / she will\",\n",
    "\"she'll've\": \"she shall have / she will have\",\n",
    "\"she's\": \"she has / she is\",\n",
    "\"should've\": \"should have\",\n",
    "\"shouldn't\": \"should not\",\n",
    "\"shouldn't've\": \"should not have\",\n",
    "\"so've\": \"so have\",\n",
    "\"so's\": \"so as / so is\",\n",
    "\"that'd\": \"that would / that had\",\n",
    "\"that'd've\": \"that would have\",\n",
    "\"that's\": \"that has / that is\",\n",
    "\"there'd\": \"there had / there would\",\n",
    "\"there'd've\": \"there would have\",\n",
    "\"there's\": \"there has / there is\",\n",
    "\"they'd\": \"they had / they would\",\n",
    "\"they'd've\": \"they would have\",\n",
    "\"they'll\": \"they shall / they will\",\n",
    "\"they'll've\": \"they shall have / they will have\",\n",
    "\"they're\": \"they are\",\n",
    "\"they've\": \"they have\",\n",
    "\"to've\": \"to have\",\n",
    "\"wasn't\": \"was not\",\n",
    "\"we'd\": \"we had / we would\",\n",
    "\"we'd've\": \"we would have\",\n",
    "\"we'll\": \"we will\",\n",
    "\"we'll've\": \"we will have\",\n",
    "\"we're\": \"we are\",\n",
    "\"we've\": \"we have\",\n",
    "\"weren't\": \"were not\",\n",
    "\"what'll\": \"what shall / what will\",\n",
    "\"what'll've\": \"what shall have / what will have\",\n",
    "\"what're\": \"what are\",\n",
    "\"what's\": \"what has / what is\",\n",
    "\"what've\": \"what have\",\n",
    "\"when's\": \"when has / when is\",\n",
    "\"when've\": \"when have\",\n",
    "\"where'd\": \"where did\",\n",
    "\"where's\": \"where has / where is\",\n",
    "\"where've\": \"where have\",\n",
    "\"who'll\": \"who shall / who will\",\n",
    "\"who'll've\": \"who shall have / who will have\",\n",
    "\"who's\": \"who has / who is\",\n",
    "\"who've\": \"who have\",\n",
    "\"why's\": \"why has / why is\",\n",
    "\"why've\": \"why have\",\n",
    "\"will've\": \"will have\",\n",
    "\"won't\": \"will not\",\n",
    "\"won't've\": \"will not have\",\n",
    "\"would've\": \"would have\",\n",
    "\"wouldn't\": \"would not\",\n",
    "\"wouldn't've\": \"would not have\",\n",
    "\"y'all\": \"you all\",\n",
    "\"y'all'd\": \"you all would\",\n",
    "\"y'all'd've\": \"you all would have\",\n",
    "\"y'all're\": \"you all are\",\n",
    "\"y'all've\": \"you all have\",\n",
    "\"you'd\": \"you had / you would\",\n",
    "\"you'd've\": \"you would have\",\n",
    "\"you'll\": \"you shall / you will\",\n",
    "\"you'll've\": \"you shall have / you will have\",\n",
    "\"you're\": \"you are\",\n",
    "\"you've\": \"you have\"\n",
    "}"
   ]
  },
  {
   "cell_type": "code",
   "execution_count": 25,
   "metadata": {},
   "outputs": [],
   "source": [
    "def preProcessText(review):\n",
    "    review = review.lower() # Convert strin into lower case\n",
    "    for word in review.split():\n",
    "        if word.lower() in contractions:\n",
    "            review = review.replace(word, contractions[word.lower()])\n",
    "    review = review.replace(\"?\",\"\") # remove question mark\n",
    "    review = \" \".join(re.findall(r\"[a-zA-Z]+\", review)) # Remove special symbols and numbers from the text \n",
    "    review = re.sub(r'^https?:\\/\\/.*[\\r\\n]*', '', review, flags=re.MULTILINE) # remove urls from the text    \n",
    "    return review"
   ]
  },
  {
   "cell_type": "code",
   "execution_count": 26,
   "metadata": {},
   "outputs": [],
   "source": [
    "processedData = pd.DataFrame()\n",
    "processedData['Summary'] = rawData.summary.apply(preProcessText)\n",
    "processedData['ReviewText'] = rawData.reviewText.apply(preProcessText)"
   ]
  },
  {
   "cell_type": "code",
   "execution_count": 27,
   "metadata": {},
   "outputs": [
    {
     "data": {
      "text/html": [
       "<div>\n",
       "<style scoped>\n",
       "    .dataframe tbody tr th:only-of-type {\n",
       "        vertical-align: middle;\n",
       "    }\n",
       "\n",
       "    .dataframe tbody tr th {\n",
       "        vertical-align: top;\n",
       "    }\n",
       "\n",
       "    .dataframe thead th {\n",
       "        text-align: right;\n",
       "    }\n",
       "</style>\n",
       "<table border=\"1\" class=\"dataframe\">\n",
       "  <thead>\n",
       "    <tr style=\"text-align: right;\">\n",
       "      <th></th>\n",
       "      <th>Summary</th>\n",
       "      <th>ReviewText</th>\n",
       "    </tr>\n",
       "  </thead>\n",
       "  <tbody>\n",
       "    <tr>\n",
       "      <th>0</th>\n",
       "      <td>good</td>\n",
       "      <td>not much to write about here but it does exact...</td>\n",
       "    </tr>\n",
       "    <tr>\n",
       "      <th>1</th>\n",
       "      <td>jake</td>\n",
       "      <td>the product does exactly as it should and is q...</td>\n",
       "    </tr>\n",
       "    <tr>\n",
       "      <th>2</th>\n",
       "      <td>it does the job well</td>\n",
       "      <td>the primary job of this device is to block the...</td>\n",
       "    </tr>\n",
       "    <tr>\n",
       "      <th>3</th>\n",
       "      <td>good windscreen for the money</td>\n",
       "      <td>nice windscreen protects my mxl mic and preven...</td>\n",
       "    </tr>\n",
       "    <tr>\n",
       "      <th>4</th>\n",
       "      <td>no more pops when i record my vocals</td>\n",
       "      <td>this pop filter is great it looks and performs...</td>\n",
       "    </tr>\n",
       "  </tbody>\n",
       "</table>\n",
       "</div>"
      ],
      "text/plain": [
       "                                Summary  \\\n",
       "0                                  good   \n",
       "1                                  jake   \n",
       "2                  it does the job well   \n",
       "3         good windscreen for the money   \n",
       "4  no more pops when i record my vocals   \n",
       "\n",
       "                                          ReviewText  \n",
       "0  not much to write about here but it does exact...  \n",
       "1  the product does exactly as it should and is q...  \n",
       "2  the primary job of this device is to block the...  \n",
       "3  nice windscreen protects my mxl mic and preven...  \n",
       "4  this pop filter is great it looks and performs...  "
      ]
     },
     "execution_count": 27,
     "metadata": {},
     "output_type": "execute_result"
    }
   ],
   "source": [
    "processedData.head()"
   ]
  },
  {
   "cell_type": "markdown",
   "metadata": {},
   "source": [
    "### NLP Processing"
   ]
  },
  {
   "cell_type": "markdown",
   "metadata": {},
   "source": [
    "#### 1. Tokenize sentences"
   ]
  },
  {
   "cell_type": "code",
   "execution_count": 28,
   "metadata": {},
   "outputs": [],
   "source": [
    "#https://stackoverflow.com/questions/45878720/dataframe-apply-doesnt-accept-axis-argument?rq=1\n",
    "processedData['tokenized_Summary'] = processedData[['Summary']].apply(lambda row: nltk.word_tokenize(row['Summary']), axis = 1)\n",
    "processedData['tokenized_ReviewText'] = processedData[['ReviewText']].apply(lambda row: nltk.word_tokenize(row['ReviewText']), axis = 1)"
   ]
  },
  {
   "cell_type": "code",
   "execution_count": 29,
   "metadata": {},
   "outputs": [
    {
     "data": {
      "text/html": [
       "<div>\n",
       "<style scoped>\n",
       "    .dataframe tbody tr th:only-of-type {\n",
       "        vertical-align: middle;\n",
       "    }\n",
       "\n",
       "    .dataframe tbody tr th {\n",
       "        vertical-align: top;\n",
       "    }\n",
       "\n",
       "    .dataframe thead th {\n",
       "        text-align: right;\n",
       "    }\n",
       "</style>\n",
       "<table border=\"1\" class=\"dataframe\">\n",
       "  <thead>\n",
       "    <tr style=\"text-align: right;\">\n",
       "      <th></th>\n",
       "      <th>Summary</th>\n",
       "      <th>ReviewText</th>\n",
       "      <th>tokenized_Summary</th>\n",
       "      <th>tokenized_ReviewText</th>\n",
       "    </tr>\n",
       "  </thead>\n",
       "  <tbody>\n",
       "    <tr>\n",
       "      <th>0</th>\n",
       "      <td>good</td>\n",
       "      <td>not much to write about here but it does exact...</td>\n",
       "      <td>[good]</td>\n",
       "      <td>[not, much, to, write, about, here, but, it, d...</td>\n",
       "    </tr>\n",
       "    <tr>\n",
       "      <th>1</th>\n",
       "      <td>jake</td>\n",
       "      <td>the product does exactly as it should and is q...</td>\n",
       "      <td>[jake]</td>\n",
       "      <td>[the, product, does, exactly, as, it, should, ...</td>\n",
       "    </tr>\n",
       "    <tr>\n",
       "      <th>2</th>\n",
       "      <td>it does the job well</td>\n",
       "      <td>the primary job of this device is to block the...</td>\n",
       "      <td>[it, does, the, job, well]</td>\n",
       "      <td>[the, primary, job, of, this, device, is, to, ...</td>\n",
       "    </tr>\n",
       "    <tr>\n",
       "      <th>3</th>\n",
       "      <td>good windscreen for the money</td>\n",
       "      <td>nice windscreen protects my mxl mic and preven...</td>\n",
       "      <td>[good, windscreen, for, the, money]</td>\n",
       "      <td>[nice, windscreen, protects, my, mxl, mic, and...</td>\n",
       "    </tr>\n",
       "    <tr>\n",
       "      <th>4</th>\n",
       "      <td>no more pops when i record my vocals</td>\n",
       "      <td>this pop filter is great it looks and performs...</td>\n",
       "      <td>[no, more, pops, when, i, record, my, vocals]</td>\n",
       "      <td>[this, pop, filter, is, great, it, looks, and,...</td>\n",
       "    </tr>\n",
       "  </tbody>\n",
       "</table>\n",
       "</div>"
      ],
      "text/plain": [
       "                                Summary  \\\n",
       "0                                  good   \n",
       "1                                  jake   \n",
       "2                  it does the job well   \n",
       "3         good windscreen for the money   \n",
       "4  no more pops when i record my vocals   \n",
       "\n",
       "                                          ReviewText  \\\n",
       "0  not much to write about here but it does exact...   \n",
       "1  the product does exactly as it should and is q...   \n",
       "2  the primary job of this device is to block the...   \n",
       "3  nice windscreen protects my mxl mic and preven...   \n",
       "4  this pop filter is great it looks and performs...   \n",
       "\n",
       "                               tokenized_Summary  \\\n",
       "0                                         [good]   \n",
       "1                                         [jake]   \n",
       "2                     [it, does, the, job, well]   \n",
       "3            [good, windscreen, for, the, money]   \n",
       "4  [no, more, pops, when, i, record, my, vocals]   \n",
       "\n",
       "                                tokenized_ReviewText  \n",
       "0  [not, much, to, write, about, here, but, it, d...  \n",
       "1  [the, product, does, exactly, as, it, should, ...  \n",
       "2  [the, primary, job, of, this, device, is, to, ...  \n",
       "3  [nice, windscreen, protects, my, mxl, mic, and...  \n",
       "4  [this, pop, filter, is, great, it, looks, and,...  "
      ]
     },
     "execution_count": 29,
     "metadata": {},
     "output_type": "execute_result"
    }
   ],
   "source": [
    "processedData.head()"
   ]
  },
  {
   "cell_type": "markdown",
   "metadata": {},
   "source": [
    "#### 2. Stopword removal\n",
    "- https://www.geeksforgeeks.org/removing-stop-words-nltk-python/"
   ]
  },
  {
   "cell_type": "code",
   "execution_count": 43,
   "metadata": {},
   "outputs": [],
   "source": [
    "def removeStopwords(column,stopWords):\n",
    "    filtered_sentence = []\n",
    "    for w in column:\n",
    "        if w not in stopWords:\n",
    "            filtered_sentence.append(w)\n",
    "    return filtered_sentence"
   ]
  },
  {
   "cell_type": "code",
   "execution_count": 49,
   "metadata": {},
   "outputs": [
    {
     "name": "stdout",
     "output_type": "stream",
     "text": [
      "179\n",
      "178\n"
     ]
    }
   ],
   "source": [
    "stopWords = set(stopwords.words('english'))\n",
    "print(len(stopWords))\n",
    "stopWords.remove('not')\n",
    "print(len(stopWords))"
   ]
  },
  {
   "cell_type": "code",
   "execution_count": 46,
   "metadata": {},
   "outputs": [],
   "source": [
    "processedData['tokenized_Summary'] = processedData[['tokenized_Summary']].apply(lambda x: removeStopwords(x['tokenized_Summary'], stopWords), axis = 1)\n",
    "processedData['tokenized_ReviewText'] = processedData[['tokenized_ReviewText']].apply(lambda x: removeStopwords(x['tokenized_ReviewText'], stopWords), axis = 1)"
   ]
  },
  {
   "cell_type": "code",
   "execution_count": 47,
   "metadata": {},
   "outputs": [
    {
     "data": {
      "text/html": [
       "<div>\n",
       "<style scoped>\n",
       "    .dataframe tbody tr th:only-of-type {\n",
       "        vertical-align: middle;\n",
       "    }\n",
       "\n",
       "    .dataframe tbody tr th {\n",
       "        vertical-align: top;\n",
       "    }\n",
       "\n",
       "    .dataframe thead th {\n",
       "        text-align: right;\n",
       "    }\n",
       "</style>\n",
       "<table border=\"1\" class=\"dataframe\">\n",
       "  <thead>\n",
       "    <tr style=\"text-align: right;\">\n",
       "      <th></th>\n",
       "      <th>Summary</th>\n",
       "      <th>ReviewText</th>\n",
       "      <th>tokenized_Summary</th>\n",
       "      <th>tokenized_ReviewText</th>\n",
       "    </tr>\n",
       "  </thead>\n",
       "  <tbody>\n",
       "    <tr>\n",
       "      <th>0</th>\n",
       "      <td>good</td>\n",
       "      <td>not much to write about here but it does exact...</td>\n",
       "      <td>[good]</td>\n",
       "      <td>[not, much, write, exactly, supposed, filters,...</td>\n",
       "    </tr>\n",
       "    <tr>\n",
       "      <th>1</th>\n",
       "      <td>jake</td>\n",
       "      <td>the product does exactly as it should and is q...</td>\n",
       "      <td>[jake]</td>\n",
       "      <td>[product, exactly, quite, affordable, not, rea...</td>\n",
       "    </tr>\n",
       "    <tr>\n",
       "      <th>2</th>\n",
       "      <td>it does the job well</td>\n",
       "      <td>the primary job of this device is to block the...</td>\n",
       "      <td>[job, well]</td>\n",
       "      <td>[primary, job, device, block, breath, would, o...</td>\n",
       "    </tr>\n",
       "    <tr>\n",
       "      <th>3</th>\n",
       "      <td>good windscreen for the money</td>\n",
       "      <td>nice windscreen protects my mxl mic and preven...</td>\n",
       "      <td>[good, windscreen, money]</td>\n",
       "      <td>[nice, windscreen, protects, mxl, mic, prevent...</td>\n",
       "    </tr>\n",
       "    <tr>\n",
       "      <th>4</th>\n",
       "      <td>no more pops when i record my vocals</td>\n",
       "      <td>this pop filter is great it looks and performs...</td>\n",
       "      <td>[pops, record, vocals]</td>\n",
       "      <td>[pop, filter, great, looks, performs, like, st...</td>\n",
       "    </tr>\n",
       "  </tbody>\n",
       "</table>\n",
       "</div>"
      ],
      "text/plain": [
       "                                Summary  \\\n",
       "0                                  good   \n",
       "1                                  jake   \n",
       "2                  it does the job well   \n",
       "3         good windscreen for the money   \n",
       "4  no more pops when i record my vocals   \n",
       "\n",
       "                                          ReviewText  \\\n",
       "0  not much to write about here but it does exact...   \n",
       "1  the product does exactly as it should and is q...   \n",
       "2  the primary job of this device is to block the...   \n",
       "3  nice windscreen protects my mxl mic and preven...   \n",
       "4  this pop filter is great it looks and performs...   \n",
       "\n",
       "           tokenized_Summary  \\\n",
       "0                     [good]   \n",
       "1                     [jake]   \n",
       "2                [job, well]   \n",
       "3  [good, windscreen, money]   \n",
       "4     [pops, record, vocals]   \n",
       "\n",
       "                                tokenized_ReviewText  \n",
       "0  [not, much, write, exactly, supposed, filters,...  \n",
       "1  [product, exactly, quite, affordable, not, rea...  \n",
       "2  [primary, job, device, block, breath, would, o...  \n",
       "3  [nice, windscreen, protects, mxl, mic, prevent...  \n",
       "4  [pop, filter, great, looks, performs, like, st...  "
      ]
     },
     "execution_count": 47,
     "metadata": {},
     "output_type": "execute_result"
    }
   ],
   "source": [
    "processedData.head()"
   ]
  },
  {
   "cell_type": "code",
   "execution_count": 50,
   "metadata": {},
   "outputs": [],
   "source": [
    "Tokenized_data = processedData.copy()"
   ]
  },
  {
   "cell_type": "code",
   "execution_count": 51,
   "metadata": {},
   "outputs": [
    {
     "data": {
      "text/html": [
       "<div>\n",
       "<style scoped>\n",
       "    .dataframe tbody tr th:only-of-type {\n",
       "        vertical-align: middle;\n",
       "    }\n",
       "\n",
       "    .dataframe tbody tr th {\n",
       "        vertical-align: top;\n",
       "    }\n",
       "\n",
       "    .dataframe thead th {\n",
       "        text-align: right;\n",
       "    }\n",
       "</style>\n",
       "<table border=\"1\" class=\"dataframe\">\n",
       "  <thead>\n",
       "    <tr style=\"text-align: right;\">\n",
       "      <th></th>\n",
       "      <th>tokenized_Summary</th>\n",
       "      <th>tokenized_ReviewText</th>\n",
       "    </tr>\n",
       "  </thead>\n",
       "  <tbody>\n",
       "    <tr>\n",
       "      <th>0</th>\n",
       "      <td>[good]</td>\n",
       "      <td>[not, much, write, exactly, supposed, filters,...</td>\n",
       "    </tr>\n",
       "    <tr>\n",
       "      <th>1</th>\n",
       "      <td>[jake]</td>\n",
       "      <td>[product, exactly, quite, affordable, not, rea...</td>\n",
       "    </tr>\n",
       "    <tr>\n",
       "      <th>2</th>\n",
       "      <td>[job, well]</td>\n",
       "      <td>[primary, job, device, block, breath, would, o...</td>\n",
       "    </tr>\n",
       "    <tr>\n",
       "      <th>3</th>\n",
       "      <td>[good, windscreen, money]</td>\n",
       "      <td>[nice, windscreen, protects, mxl, mic, prevent...</td>\n",
       "    </tr>\n",
       "    <tr>\n",
       "      <th>4</th>\n",
       "      <td>[pops, record, vocals]</td>\n",
       "      <td>[pop, filter, great, looks, performs, like, st...</td>\n",
       "    </tr>\n",
       "  </tbody>\n",
       "</table>\n",
       "</div>"
      ],
      "text/plain": [
       "           tokenized_Summary  \\\n",
       "0                     [good]   \n",
       "1                     [jake]   \n",
       "2                [job, well]   \n",
       "3  [good, windscreen, money]   \n",
       "4     [pops, record, vocals]   \n",
       "\n",
       "                                tokenized_ReviewText  \n",
       "0  [not, much, write, exactly, supposed, filters,...  \n",
       "1  [product, exactly, quite, affordable, not, rea...  \n",
       "2  [primary, job, device, block, breath, would, o...  \n",
       "3  [nice, windscreen, protects, mxl, mic, prevent...  \n",
       "4  [pop, filter, great, looks, performs, like, st...  "
      ]
     },
     "execution_count": 51,
     "metadata": {},
     "output_type": "execute_result"
    }
   ],
   "source": [
    "Tokenized_data.drop(['Summary','ReviewText'], axis = 1, inplace = True)\n",
    "Tokenized_data.head()"
   ]
  },
  {
   "cell_type": "markdown",
   "metadata": {},
   "source": [
    "#### 3. Stemming or Lemmatization\n",
    "- https://www.datacamp.com/community/tutorials/stemming-lemmatization-python"
   ]
  },
  {
   "cell_type": "code",
   "execution_count": 52,
   "metadata": {},
   "outputs": [],
   "source": [
    "def StemSentence(column):\n",
    "    porter = PorterStemmer()\n",
    "    lem_list = []\n",
    "    for w in column:\n",
    "        lem_list.append(porter.stem(w))\n",
    "    return lem_list"
   ]
  },
  {
   "cell_type": "code",
   "execution_count": 53,
   "metadata": {
    "scrolled": false
   },
   "outputs": [],
   "source": [
    "Tokenized_data['Ltokenized_Summary'] = Tokenized_data['tokenized_Summary'].apply(StemSentence)\n",
    "Tokenized_data['Ltokenized_ReviewText'] = Tokenized_data['tokenized_ReviewText'].apply(StemSentence)"
   ]
  },
  {
   "cell_type": "code",
   "execution_count": 54,
   "metadata": {},
   "outputs": [
    {
     "data": {
      "text/html": [
       "<div>\n",
       "<style scoped>\n",
       "    .dataframe tbody tr th:only-of-type {\n",
       "        vertical-align: middle;\n",
       "    }\n",
       "\n",
       "    .dataframe tbody tr th {\n",
       "        vertical-align: top;\n",
       "    }\n",
       "\n",
       "    .dataframe thead th {\n",
       "        text-align: right;\n",
       "    }\n",
       "</style>\n",
       "<table border=\"1\" class=\"dataframe\">\n",
       "  <thead>\n",
       "    <tr style=\"text-align: right;\">\n",
       "      <th></th>\n",
       "      <th>tokenized_Summary</th>\n",
       "      <th>tokenized_ReviewText</th>\n",
       "      <th>Ltokenized_Summary</th>\n",
       "      <th>Ltokenized_ReviewText</th>\n",
       "    </tr>\n",
       "  </thead>\n",
       "  <tbody>\n",
       "    <tr>\n",
       "      <th>0</th>\n",
       "      <td>[good]</td>\n",
       "      <td>[not, much, write, exactly, supposed, filters,...</td>\n",
       "      <td>[good]</td>\n",
       "      <td>[not, much, write, exactli, suppos, filter, po...</td>\n",
       "    </tr>\n",
       "    <tr>\n",
       "      <th>1</th>\n",
       "      <td>[jake]</td>\n",
       "      <td>[product, exactly, quite, affordable, not, rea...</td>\n",
       "      <td>[jake]</td>\n",
       "      <td>[product, exactli, quit, afford, not, realiz, ...</td>\n",
       "    </tr>\n",
       "    <tr>\n",
       "      <th>2</th>\n",
       "      <td>[job, well]</td>\n",
       "      <td>[primary, job, device, block, breath, would, o...</td>\n",
       "      <td>[job, well]</td>\n",
       "      <td>[primari, job, devic, block, breath, would, ot...</td>\n",
       "    </tr>\n",
       "    <tr>\n",
       "      <th>3</th>\n",
       "      <td>[good, windscreen, money]</td>\n",
       "      <td>[nice, windscreen, protects, mxl, mic, prevent...</td>\n",
       "      <td>[good, windscreen, money]</td>\n",
       "      <td>[nice, windscreen, protect, mxl, mic, prevent,...</td>\n",
       "    </tr>\n",
       "    <tr>\n",
       "      <th>4</th>\n",
       "      <td>[pops, record, vocals]</td>\n",
       "      <td>[pop, filter, great, looks, performs, like, st...</td>\n",
       "      <td>[pop, record, vocal]</td>\n",
       "      <td>[pop, filter, great, look, perform, like, stud...</td>\n",
       "    </tr>\n",
       "    <tr>\n",
       "      <th>5</th>\n",
       "      <td>[best, cable]</td>\n",
       "      <td>[good, bought, another, one, love, heavy, cord...</td>\n",
       "      <td>[best, cabl]</td>\n",
       "      <td>[good, bought, anoth, one, love, heavi, cord, ...</td>\n",
       "    </tr>\n",
       "    <tr>\n",
       "      <th>6</th>\n",
       "      <td>[monster, standard, instrument, cable]</td>\n",
       "      <td>[used, monster, cables, years, good, reason, l...</td>\n",
       "      <td>[monster, standard, instrument, cabl]</td>\n",
       "      <td>[use, monster, cabl, year, good, reason, lifet...</td>\n",
       "    </tr>\n",
       "    <tr>\n",
       "      <th>7</th>\n",
       "      <td>[fit, fender, strat]</td>\n",
       "      <td>[use, cable, run, output, pedal, chain, input,...</td>\n",
       "      <td>[fit, fender, strat]</td>\n",
       "      <td>[use, cabl, run, output, pedal, chain, input, ...</td>\n",
       "    </tr>\n",
       "    <tr>\n",
       "      <th>8</th>\n",
       "      <td>[great, cable]</td>\n",
       "      <td>[perfect, epiphone, sheraton, ii, monster, cab...</td>\n",
       "      <td>[great, cabl]</td>\n",
       "      <td>[perfect, epiphon, sheraton, ii, monster, cabl...</td>\n",
       "    </tr>\n",
       "    <tr>\n",
       "      <th>9</th>\n",
       "      <td>[best, instrument, cables, market]</td>\n",
       "      <td>[monster, makes, best, cables, lifetime, warra...</td>\n",
       "      <td>[best, instrument, cabl, market]</td>\n",
       "      <td>[monster, make, best, cabl, lifetim, warranti,...</td>\n",
       "    </tr>\n",
       "  </tbody>\n",
       "</table>\n",
       "</div>"
      ],
      "text/plain": [
       "                        tokenized_Summary  \\\n",
       "0                                  [good]   \n",
       "1                                  [jake]   \n",
       "2                             [job, well]   \n",
       "3               [good, windscreen, money]   \n",
       "4                  [pops, record, vocals]   \n",
       "5                           [best, cable]   \n",
       "6  [monster, standard, instrument, cable]   \n",
       "7                    [fit, fender, strat]   \n",
       "8                          [great, cable]   \n",
       "9      [best, instrument, cables, market]   \n",
       "\n",
       "                                tokenized_ReviewText  \\\n",
       "0  [not, much, write, exactly, supposed, filters,...   \n",
       "1  [product, exactly, quite, affordable, not, rea...   \n",
       "2  [primary, job, device, block, breath, would, o...   \n",
       "3  [nice, windscreen, protects, mxl, mic, prevent...   \n",
       "4  [pop, filter, great, looks, performs, like, st...   \n",
       "5  [good, bought, another, one, love, heavy, cord...   \n",
       "6  [used, monster, cables, years, good, reason, l...   \n",
       "7  [use, cable, run, output, pedal, chain, input,...   \n",
       "8  [perfect, epiphone, sheraton, ii, monster, cab...   \n",
       "9  [monster, makes, best, cables, lifetime, warra...   \n",
       "\n",
       "                      Ltokenized_Summary  \\\n",
       "0                                 [good]   \n",
       "1                                 [jake]   \n",
       "2                            [job, well]   \n",
       "3              [good, windscreen, money]   \n",
       "4                   [pop, record, vocal]   \n",
       "5                           [best, cabl]   \n",
       "6  [monster, standard, instrument, cabl]   \n",
       "7                   [fit, fender, strat]   \n",
       "8                          [great, cabl]   \n",
       "9       [best, instrument, cabl, market]   \n",
       "\n",
       "                               Ltokenized_ReviewText  \n",
       "0  [not, much, write, exactli, suppos, filter, po...  \n",
       "1  [product, exactli, quit, afford, not, realiz, ...  \n",
       "2  [primari, job, devic, block, breath, would, ot...  \n",
       "3  [nice, windscreen, protect, mxl, mic, prevent,...  \n",
       "4  [pop, filter, great, look, perform, like, stud...  \n",
       "5  [good, bought, anoth, one, love, heavi, cord, ...  \n",
       "6  [use, monster, cabl, year, good, reason, lifet...  \n",
       "7  [use, cabl, run, output, pedal, chain, input, ...  \n",
       "8  [perfect, epiphon, sheraton, ii, monster, cabl...  \n",
       "9  [monster, make, best, cabl, lifetim, warranti,...  "
      ]
     },
     "execution_count": 54,
     "metadata": {},
     "output_type": "execute_result"
    }
   ],
   "source": [
    "Tokenized_data.head(10)"
   ]
  },
  {
   "cell_type": "code",
   "execution_count": 58,
   "metadata": {},
   "outputs": [],
   "source": [
    "stemmedData = Tokenized_data.copy()\n",
    "stemmedData.drop(['tokenized_Summary','tokenized_ReviewText'], inplace = True, axis = 1)"
   ]
  },
  {
   "cell_type": "code",
   "execution_count": 59,
   "metadata": {},
   "outputs": [
    {
     "data": {
      "text/plain": [
       "(10261, 2)"
      ]
     },
     "execution_count": 59,
     "metadata": {},
     "output_type": "execute_result"
    }
   ],
   "source": [
    "stemmedData.rename(columns = {'Ltokenized_Summary':'summary', 'Ltokenized_ReviewText':'reviewText'}, inplace = True) \n",
    "stemmedData.shape"
   ]
  },
  {
   "cell_type": "markdown",
   "metadata": {},
   "source": [
    "#### 4. Get number of unique words\n",
    "Count total number of unique words in the review text and summary"
   ]
  },
  {
   "cell_type": "code",
   "execution_count": 60,
   "metadata": {},
   "outputs": [],
   "source": [
    "unique_words = []\n",
    "for sent in stemmedData.reviewText:\n",
    "    for word in sent:\n",
    "        if word not in unique_words:\n",
    "            unique_words.append(word) "
   ]
  },
  {
   "cell_type": "code",
   "execution_count": 61,
   "metadata": {},
   "outputs": [],
   "source": [
    "for sent in stemmedData.summary:\n",
    "    for word in sent:\n",
    "        if word not in unique_words:\n",
    "            unique_words.append(word) "
   ]
  },
  {
   "cell_type": "code",
   "execution_count": 62,
   "metadata": {},
   "outputs": [
    {
     "name": "stdout",
     "output_type": "stream",
     "text": [
      "('Unique Words in Text: ', 13141)\n"
     ]
    }
   ],
   "source": [
    "print(\"Unique Words in Text: \",len(unique_words))"
   ]
  },
  {
   "cell_type": "markdown",
   "metadata": {},
   "source": [
    "#### Merge two columns of stemmedData\n",
    "as both texts are important so rather than "
   ]
  },
  {
   "cell_type": "code",
   "execution_count": 63,
   "metadata": {},
   "outputs": [],
   "source": [
    "JonedColumns = stemmedData.summary + stemmedData.reviewText "
   ]
  },
  {
   "cell_type": "code",
   "execution_count": 64,
   "metadata": {},
   "outputs": [
    {
     "data": {
      "text/html": [
       "<div>\n",
       "<style scoped>\n",
       "    .dataframe tbody tr th:only-of-type {\n",
       "        vertical-align: middle;\n",
       "    }\n",
       "\n",
       "    .dataframe tbody tr th {\n",
       "        vertical-align: top;\n",
       "    }\n",
       "\n",
       "    .dataframe thead th {\n",
       "        text-align: right;\n",
       "    }\n",
       "</style>\n",
       "<table border=\"1\" class=\"dataframe\">\n",
       "  <thead>\n",
       "    <tr style=\"text-align: right;\">\n",
       "      <th></th>\n",
       "      <th>Text</th>\n",
       "    </tr>\n",
       "  </thead>\n",
       "  <tbody>\n",
       "  </tbody>\n",
       "</table>\n",
       "</div>"
      ],
      "text/plain": [
       "Empty DataFrame\n",
       "Columns: [Text]\n",
       "Index: []"
      ]
     },
     "execution_count": 64,
     "metadata": {},
     "output_type": "execute_result"
    }
   ],
   "source": [
    "JonedColumnsNew=  pd.DataFrame(columns=['Text'])\n",
    "JonedColumnsNew"
   ]
  },
  {
   "cell_type": "code",
   "execution_count": 65,
   "metadata": {},
   "outputs": [],
   "source": [
    "JonedColumnsNew['Text'] = JonedColumns.tolist()"
   ]
  },
  {
   "cell_type": "code",
   "execution_count": 67,
   "metadata": {},
   "outputs": [
    {
     "data": {
      "text/html": [
       "<div>\n",
       "<style scoped>\n",
       "    .dataframe tbody tr th:only-of-type {\n",
       "        vertical-align: middle;\n",
       "    }\n",
       "\n",
       "    .dataframe tbody tr th {\n",
       "        vertical-align: top;\n",
       "    }\n",
       "\n",
       "    .dataframe thead th {\n",
       "        text-align: right;\n",
       "    }\n",
       "</style>\n",
       "<table border=\"1\" class=\"dataframe\">\n",
       "  <thead>\n",
       "    <tr style=\"text-align: right;\">\n",
       "      <th></th>\n",
       "      <th>Text</th>\n",
       "    </tr>\n",
       "  </thead>\n",
       "  <tbody>\n",
       "    <tr>\n",
       "      <th>0</th>\n",
       "      <td>[good, not, much, write, exactli, suppos, filt...</td>\n",
       "    </tr>\n",
       "    <tr>\n",
       "      <th>1</th>\n",
       "      <td>[jake, product, exactli, quit, afford, not, re...</td>\n",
       "    </tr>\n",
       "    <tr>\n",
       "      <th>2</th>\n",
       "      <td>[job, well, primari, job, devic, block, breath...</td>\n",
       "    </tr>\n",
       "    <tr>\n",
       "      <th>3</th>\n",
       "      <td>[good, windscreen, money, nice, windscreen, pr...</td>\n",
       "    </tr>\n",
       "    <tr>\n",
       "      <th>4</th>\n",
       "      <td>[pop, record, vocal, pop, filter, great, look,...</td>\n",
       "    </tr>\n",
       "  </tbody>\n",
       "</table>\n",
       "</div>"
      ],
      "text/plain": [
       "                                                Text\n",
       "0  [good, not, much, write, exactli, suppos, filt...\n",
       "1  [jake, product, exactli, quit, afford, not, re...\n",
       "2  [job, well, primari, job, devic, block, breath...\n",
       "3  [good, windscreen, money, nice, windscreen, pr...\n",
       "4  [pop, record, vocal, pop, filter, great, look,..."
      ]
     },
     "execution_count": 67,
     "metadata": {},
     "output_type": "execute_result"
    }
   ],
   "source": [
    "JonedColumnsNew.head()"
   ]
  },
  {
   "cell_type": "markdown",
   "metadata": {},
   "source": [
    "Create Dictionary to store frequency count of words in given corpus\n",
    "- https://stackabuse.com/python-for-nlp-creating-bag-of-words-model-from-scratch/"
   ]
  },
  {
   "cell_type": "code",
   "execution_count": 68,
   "metadata": {},
   "outputs": [],
   "source": [
    "wordFreq = {}\n",
    "for sent in JonedColumnsNew['Text']:\n",
    "    for word in sent:\n",
    "        if word not in wordFreq.keys():\n",
    "            wordFreq[word] = 1\n",
    "        else:\n",
    "            wordFreq[word] += 1"
   ]
  },
  {
   "cell_type": "markdown",
   "metadata": {},
   "source": [
    "There are 13141 unique words in the corpus. If we use BoW based representation for all words the data size will be 10261 x 13141 = 134839801. This would be very large size. In fact some of the words occurs very few times and may not impact the polarity of the sentence. Hence we will select few top frequent words for BoW representation of text.\n",
    "- e.g. if we seletct 1000 most frequent words then size of final data would be 10261 x 1000 = 10261000"
   ]
  },
  {
   "cell_type": "code",
   "execution_count": 69,
   "metadata": {},
   "outputs": [],
   "source": [
    "#https://stackabuse.com/python-for-nlp-creating-bag-of-words-model-from-scratch/\n",
    "import heapq\n",
    "most_freq = heapq.nlargest(1000, wordFreq, key=wordFreq.get)"
   ]
  },
  {
   "cell_type": "code",
   "execution_count": 70,
   "metadata": {},
   "outputs": [],
   "source": [
    "#create BoW based sentence vectors for every text tokens from JonedColumns\n",
    "sentenceVectors = []\n",
    "for sentence in JonedColumns:\n",
    "    sentenceVec = []\n",
    "    for word in most_freq:\n",
    "        if word in sentence:\n",
    "            sentenceVec.append(1)\n",
    "        else:\n",
    "            sentenceVec.append(0)\n",
    "    sentenceVectors.append(sentenceVec)"
   ]
  },
  {
   "cell_type": "code",
   "execution_count": 71,
   "metadata": {},
   "outputs": [
    {
     "name": "stdout",
     "output_type": "stream",
     "text": [
      "(10261L,)\n",
      "10261\n",
      "<type 'numpy.ndarray'>\n",
      "(10261L, 1000L)\n"
     ]
    }
   ],
   "source": [
    "# convert list of list into matrix ndarray\n",
    "print(JonedColumns.shape)\n",
    "print(len(sentenceVectors))\n",
    "sentenceVectors = np.asarray(sentenceVectors)\n",
    "print(type(sentenceVectors))\n",
    "print(sentenceVectors.shape)"
   ]
  },
  {
   "cell_type": "code",
   "execution_count": 121,
   "metadata": {},
   "outputs": [
    {
     "data": {
      "text/html": [
       "<div>\n",
       "<style scoped>\n",
       "    .dataframe tbody tr th:only-of-type {\n",
       "        vertical-align: middle;\n",
       "    }\n",
       "\n",
       "    .dataframe tbody tr th {\n",
       "        vertical-align: top;\n",
       "    }\n",
       "\n",
       "    .dataframe thead th {\n",
       "        text-align: right;\n",
       "    }\n",
       "</style>\n",
       "<table border=\"1\" class=\"dataframe\">\n",
       "  <thead>\n",
       "    <tr style=\"text-align: right;\">\n",
       "      <th></th>\n",
       "      <th>0</th>\n",
       "      <th>1</th>\n",
       "      <th>2</th>\n",
       "      <th>3</th>\n",
       "      <th>4</th>\n",
       "      <th>5</th>\n",
       "      <th>6</th>\n",
       "      <th>7</th>\n",
       "      <th>8</th>\n",
       "      <th>9</th>\n",
       "      <th>...</th>\n",
       "      <th>990</th>\n",
       "      <th>991</th>\n",
       "      <th>992</th>\n",
       "      <th>993</th>\n",
       "      <th>994</th>\n",
       "      <th>995</th>\n",
       "      <th>996</th>\n",
       "      <th>997</th>\n",
       "      <th>998</th>\n",
       "      <th>999</th>\n",
       "    </tr>\n",
       "  </thead>\n",
       "  <tbody>\n",
       "    <tr>\n",
       "      <th>0</th>\n",
       "      <td>1</td>\n",
       "      <td>0</td>\n",
       "      <td>0</td>\n",
       "      <td>0</td>\n",
       "      <td>1</td>\n",
       "      <td>0</td>\n",
       "      <td>1</td>\n",
       "      <td>0</td>\n",
       "      <td>1</td>\n",
       "      <td>0</td>\n",
       "      <td>...</td>\n",
       "      <td>0</td>\n",
       "      <td>0</td>\n",
       "      <td>0</td>\n",
       "      <td>0</td>\n",
       "      <td>0</td>\n",
       "      <td>0</td>\n",
       "      <td>0</td>\n",
       "      <td>0</td>\n",
       "      <td>0</td>\n",
       "      <td>0</td>\n",
       "    </tr>\n",
       "    <tr>\n",
       "      <th>1</th>\n",
       "      <td>1</td>\n",
       "      <td>1</td>\n",
       "      <td>0</td>\n",
       "      <td>0</td>\n",
       "      <td>0</td>\n",
       "      <td>0</td>\n",
       "      <td>1</td>\n",
       "      <td>0</td>\n",
       "      <td>0</td>\n",
       "      <td>1</td>\n",
       "      <td>...</td>\n",
       "      <td>0</td>\n",
       "      <td>0</td>\n",
       "      <td>0</td>\n",
       "      <td>0</td>\n",
       "      <td>0</td>\n",
       "      <td>0</td>\n",
       "      <td>0</td>\n",
       "      <td>0</td>\n",
       "      <td>0</td>\n",
       "      <td>0</td>\n",
       "    </tr>\n",
       "    <tr>\n",
       "      <th>2</th>\n",
       "      <td>0</td>\n",
       "      <td>0</td>\n",
       "      <td>0</td>\n",
       "      <td>0</td>\n",
       "      <td>1</td>\n",
       "      <td>0</td>\n",
       "      <td>0</td>\n",
       "      <td>0</td>\n",
       "      <td>0</td>\n",
       "      <td>0</td>\n",
       "      <td>...</td>\n",
       "      <td>0</td>\n",
       "      <td>0</td>\n",
       "      <td>0</td>\n",
       "      <td>0</td>\n",
       "      <td>0</td>\n",
       "      <td>0</td>\n",
       "      <td>0</td>\n",
       "      <td>0</td>\n",
       "      <td>0</td>\n",
       "      <td>0</td>\n",
       "    </tr>\n",
       "    <tr>\n",
       "      <th>3</th>\n",
       "      <td>0</td>\n",
       "      <td>0</td>\n",
       "      <td>0</td>\n",
       "      <td>0</td>\n",
       "      <td>0</td>\n",
       "      <td>0</td>\n",
       "      <td>0</td>\n",
       "      <td>0</td>\n",
       "      <td>1</td>\n",
       "      <td>0</td>\n",
       "      <td>...</td>\n",
       "      <td>0</td>\n",
       "      <td>0</td>\n",
       "      <td>0</td>\n",
       "      <td>0</td>\n",
       "      <td>0</td>\n",
       "      <td>0</td>\n",
       "      <td>0</td>\n",
       "      <td>0</td>\n",
       "      <td>0</td>\n",
       "      <td>0</td>\n",
       "    </tr>\n",
       "    <tr>\n",
       "      <th>4</th>\n",
       "      <td>0</td>\n",
       "      <td>0</td>\n",
       "      <td>0</td>\n",
       "      <td>1</td>\n",
       "      <td>0</td>\n",
       "      <td>0</td>\n",
       "      <td>0</td>\n",
       "      <td>0</td>\n",
       "      <td>0</td>\n",
       "      <td>1</td>\n",
       "      <td>...</td>\n",
       "      <td>0</td>\n",
       "      <td>0</td>\n",
       "      <td>0</td>\n",
       "      <td>0</td>\n",
       "      <td>0</td>\n",
       "      <td>0</td>\n",
       "      <td>0</td>\n",
       "      <td>0</td>\n",
       "      <td>0</td>\n",
       "      <td>0</td>\n",
       "    </tr>\n",
       "  </tbody>\n",
       "</table>\n",
       "<p>5 rows × 1000 columns</p>\n",
       "</div>"
      ],
      "text/plain": [
       "   0    1    2    3    4    5    6    7    8    9   ...   990  991  992  993  \\\n",
       "0    1    0    0    0    1    0    1    0    1    0 ...     0    0    0    0   \n",
       "1    1    1    0    0    0    0    1    0    0    1 ...     0    0    0    0   \n",
       "2    0    0    0    0    1    0    0    0    0    0 ...     0    0    0    0   \n",
       "3    0    0    0    0    0    0    0    0    1    0 ...     0    0    0    0   \n",
       "4    0    0    0    1    0    0    0    0    0    1 ...     0    0    0    0   \n",
       "\n",
       "   994  995  996  997  998  999  \n",
       "0    0    0    0    0    0    0  \n",
       "1    0    0    0    0    0    0  \n",
       "2    0    0    0    0    0    0  \n",
       "3    0    0    0    0    0    0  \n",
       "4    0    0    0    0    0    0  \n",
       "\n",
       "[5 rows x 1000 columns]"
      ]
     },
     "execution_count": 121,
     "metadata": {},
     "output_type": "execute_result"
    }
   ],
   "source": [
    "# convert ndarray to dataframe\n",
    "BoW = pd.DataFrame(data=sentenceVectors)\n",
    "BoW.head()"
   ]
  },
  {
   "cell_type": "code",
   "execution_count": 122,
   "metadata": {},
   "outputs": [
    {
     "data": {
      "text/plain": [
       "(10261, 1000)"
      ]
     },
     "execution_count": 122,
     "metadata": {},
     "output_type": "execute_result"
    }
   ],
   "source": [
    "BoW.shape"
   ]
  },
  {
   "cell_type": "code",
   "execution_count": 127,
   "metadata": {},
   "outputs": [],
   "source": [
    "X_BoW = BoW.copy()\n",
    "y_BoW = ratings"
   ]
  },
  {
   "cell_type": "code",
   "execution_count": 128,
   "metadata": {},
   "outputs": [
    {
     "name": "stdout",
     "output_type": "stream",
     "text": [
      "('X_BoW shape: ', (10261, 1000), 'y_BoW shape: ', (10261L,))\n"
     ]
    }
   ],
   "source": [
    "print(\"X_BoW shape: \", X_BoW.shape, \"y_BoW shape: \",y_BoW.shape)"
   ]
  },
  {
   "cell_type": "markdown",
   "metadata": {},
   "source": [
    "#### Check for data balanced or imbalanced"
   ]
  },
  {
   "cell_type": "code",
   "execution_count": 76,
   "metadata": {},
   "outputs": [
    {
     "data": {
      "text/plain": [
       "1.0    9022\n",
       "0.0    1239\n",
       "Name: overall, dtype: int64"
      ]
     },
     "execution_count": 76,
     "metadata": {},
     "output_type": "execute_result"
    }
   ],
   "source": [
    "ratings.value_counts()"
   ]
  },
  {
   "cell_type": "markdown",
   "metadata": {},
   "source": [
    "#### As dataset is imbalanced, following performance measures can be used\n",
    "1. Confusion Matrix\n",
    "2. Precision and Recall\n",
    "3. RoC Curve\n",
    "4. F1-Score"
   ]
  },
  {
   "cell_type": "markdown",
   "metadata": {},
   "source": [
    "### Data Visualization using t-SNE\n",
    "reference link for t-SNE https://distill.pub/2016/misread-tsne/"
   ]
  },
  {
   "cell_type": "code",
   "execution_count": 158,
   "metadata": {},
   "outputs": [],
   "source": [
    "tsneData = TSNE(random_state=10,perplexity = 10).fit_transform(X_BoW)"
   ]
  },
  {
   "cell_type": "code",
   "execution_count": 162,
   "metadata": {},
   "outputs": [
    {
     "data": {
      "text/plain": [
       "numpy.ndarray"
      ]
     },
     "execution_count": 162,
     "metadata": {},
     "output_type": "execute_result"
    }
   ],
   "source": [
    "type(tsneData)\n"
   ]
  },
  {
   "cell_type": "code",
   "execution_count": 163,
   "metadata": {},
   "outputs": [],
   "source": [
    "def plotTsne(tsneData,y_BoW):\n",
    "    numClass = len(y_BoW.unique())\n",
    "    print(numClass)\n",
    "    pallete = np.array(sns.color_palette('hls',numClass))\n",
    "    figure = plt.figure(figsize = (8,8))\n",
    "    ax = plt.subplot(aspect = 'equal')\n",
    "    sc = ax.scatter(tsneData[:,0], tsneData[:,1], lw = 0, s = 40, c = pallete[y_BoW.astype(np.int)])\n",
    "    plt.xlim(-25, 25)\n",
    "    plt.ylim(-25, 25)\n",
    "    ax.axis('off')\n",
    "    ax.axis('tight')\n",
    "    txts = []\n",
    "    for i in range(numClass):\n",
    "        xText,yText = np.median(tsneData[y_BoW == i, : ], axis = 0)\n",
    "        txt = ax.text(xText, yText, str(i), fontsize = 10)\n",
    "        txt.set_path_effects([\n",
    "            path_effects.Stroke(linewidth = 5, foreground = \"w\"),\n",
    "            path_effects.Normal()\n",
    "        ])\n",
    "        txts.append(txt)\n",
    "    return figure, ax, sc, txts"
   ]
  },
  {
   "cell_type": "code",
   "execution_count": 161,
   "metadata": {},
   "outputs": [
    {
     "name": "stdout",
     "output_type": "stream",
     "text": [
      "2\n"
     ]
    },
    {
     "data": {
      "text/plain": [
       "(<Figure size 576x576 with 1 Axes>,\n",
       " <matplotlib.axes._subplots.AxesSubplot at 0x18e923c8>,\n",
       " <matplotlib.collections.PathCollection at 0x18c8a5c0>,\n",
       " [Text(4.86784,1.64841,'0'), Text(-1.11581,-0.556708,'1')])"
      ]
     },
     "execution_count": 161,
     "metadata": {},
     "output_type": "execute_result"
    },
    {
     "data": {
      "image/png": "[encoded data removed]",
      "text/plain": [
       "<Figure size 576x576 with 1 Axes>"
      ]
     },
     "metadata": {
      "needs_background": "light"
     },
     "output_type": "display_data"
    }
   ],
   "source": [
    "plotTsne(tsneData,y_BoW)"
   ]
  },
  {
   "cell_type": "markdown",
   "metadata": {},
   "source": [
    "### Divide data into train and test set"
   ]
  },
  {
   "cell_type": "code",
   "execution_count": 77,
   "metadata": {},
   "outputs": [],
   "source": [
    "def splitData(BoW,percentage):\n",
    "    tot = BoW.shape[0]\n",
    "    TestValues = int(percentage * tot)\n",
    "    TrainValues = tot - TestValues\n",
    "    train = BoW[0:TrainValues]\n",
    "    test  = BoW[TrainValues:]\n",
    "    print(\"Data Points in Train: \",TrainValues, \"Data Points in Test: \",TestValues)\n",
    "    print(\"Data Points in Total: \",TrainValues + TestValues)\n",
    "    return train,test"
   ]
  },
  {
   "cell_type": "code",
   "execution_count": 106,
   "metadata": {},
   "outputs": [
    {
     "name": "stdout",
     "output_type": "stream",
     "text": [
      "('Data Points in Train: ', 8209, 'Data Points in Test: ', 2052)\n",
      "('Data Points in Total: ', 10261)\n",
      "(8209, 1000)\n",
      "(2052, 1000)\n"
     ]
    }
   ],
   "source": [
    "# Here splitting is not random, we use time based splitting. as data is already in sorted order according to unix time stamp\n",
    "# we use index based partitioning. After partitioning make sure to remove old indices and reset\n",
    "percentage = 0.20\n",
    "X_1, X_test = splitData(X_BoW,percentage)\n",
    "X_1.reset_index(drop=True,inplace = True)\n",
    "X_test.reset_index(drop=True,inplace = True)\n",
    "print(X_1.shape)\n",
    "print(X_test.shape)"
   ]
  },
  {
   "cell_type": "code",
   "execution_count": 107,
   "metadata": {},
   "outputs": [
    {
     "name": "stdout",
     "output_type": "stream",
     "text": [
      "('Data Points in Train: ', 8209L, 'Data Points in Test: ', 2052)\n",
      "('Data Points in Total: ', 10261L)\n",
      "(8209L,)\n",
      "(2052L,)\n"
     ]
    }
   ],
   "source": [
    "y_1, y_test = splitData(y_BoW,percentage)\n",
    "y_1.reset_index(drop=True,inplace = True)\n",
    "y_test.reset_index(drop=True,inplace = True)\n",
    "print(y_1.shape)\n",
    "print(y_test.shape)"
   ]
  },
  {
   "cell_type": "code",
   "execution_count": 108,
   "metadata": {},
   "outputs": [
    {
     "name": "stdout",
     "output_type": "stream",
     "text": [
      "('Data Points in Train: ', 6568, 'Data Points in Test: ', 1641)\n",
      "('Data Points in Total: ', 8209)\n",
      "(6568, 1000)\n",
      "(1641, 1000)\n"
     ]
    }
   ],
   "source": [
    "X_train, X_cv = splitData(X_1,percentage)\n",
    "X_train.reset_index(drop=True,inplace = True)\n",
    "X_cv.reset_index(drop=True,inplace = True)\n",
    "print(X_train.shape)\n",
    "print(X_cv.shape)"
   ]
  },
  {
   "cell_type": "code",
   "execution_count": 109,
   "metadata": {},
   "outputs": [
    {
     "name": "stdout",
     "output_type": "stream",
     "text": [
      "('Data Points in Train: ', 6568L, 'Data Points in Test: ', 1641)\n",
      "('Data Points in Total: ', 8209L)\n",
      "(6568L,)\n",
      "(1641L,)\n"
     ]
    }
   ],
   "source": [
    "y_train, y_cv = splitData(y_1,percentage)\n",
    "y_train.reset_index(drop=True,inplace = True)\n",
    "y_cv.reset_index(drop=True,inplace = True)\n",
    "print(y_train.shape)\n",
    "print(y_cv.shape)"
   ]
  },
  {
   "cell_type": "code",
   "execution_count": 111,
   "metadata": {},
   "outputs": [
    {
     "name": "stdout",
     "output_type": "stream",
     "text": [
      "('X_train: ', (6568, 1000))\n",
      "('y_train: ', (6568L,))\n",
      "('X_test: ', (2052, 1000))\n",
      "('y_test: ', (2052L,))\n",
      "('X_cv: ', (1641, 1000))\n",
      "('y_cv: ', (1641L,))\n"
     ]
    }
   ],
   "source": [
    "print('X_train: ',X_train.shape)\n",
    "print('y_train: ',y_train.shape)\n",
    "\n",
    "print('X_test: ',X_test.shape)\n",
    "print('y_test: ',y_test.shape)\n",
    "\n",
    "print('X_cv: ',X_cv.shape)\n",
    "print('y_cv: ',y_cv.shape)"
   ]
  },
  {
   "cell_type": "markdown",
   "metadata": {},
   "source": [
    "# Models with Hyperparameter Tuning and BoW"
   ]
  },
  {
   "cell_type": "markdown",
   "metadata": {},
   "source": [
    "### Naive Bays"
   ]
  },
  {
   "cell_type": "code",
   "execution_count": 164,
   "metadata": {},
   "outputs": [
    {
     "data": {
      "text/plain": [
       "GaussianNB(priors=None, var_smoothing=1e-09)"
      ]
     },
     "execution_count": 164,
     "metadata": {},
     "output_type": "execute_result"
    }
   ],
   "source": [
    "\n",
    "clfG = GaussianNB()\n",
    "clfG.fit(X_train,y_train)"
   ]
  },
  {
   "cell_type": "code",
   "execution_count": 165,
   "metadata": {},
   "outputs": [],
   "source": [
    "y_predG = clfG.predict(X_test)"
   ]
  },
  {
   "cell_type": "code",
   "execution_count": 166,
   "metadata": {},
   "outputs": [
    {
     "data": {
      "text/plain": [
       "1.0    1773\n",
       "0.0     279\n",
       "Name: overall, dtype: int64"
      ]
     },
     "execution_count": 166,
     "metadata": {},
     "output_type": "execute_result"
    }
   ],
   "source": [
    "y_test.value_counts()"
   ]
  },
  {
   "cell_type": "code",
   "execution_count": 167,
   "metadata": {},
   "outputs": [
    {
     "data": {
      "text/plain": [
       "array([[ 192,   87],\n",
       "       [ 715, 1058]], dtype=int64)"
      ]
     },
     "execution_count": 167,
     "metadata": {},
     "output_type": "execute_result"
    }
   ],
   "source": [
    "confusion_matrix(y_test,y_predG)"
   ]
  },
  {
   "cell_type": "code",
   "execution_count": 168,
   "metadata": {},
   "outputs": [
    {
     "name": "stdout",
     "output_type": "stream",
     "text": [
      "              precision    recall  f1-score   support\n",
      "\n",
      "         0.0       0.21      0.69      0.32       279\n",
      "         1.0       0.92      0.60      0.73      1773\n",
      "\n",
      "   micro avg       0.61      0.61      0.61      2052\n",
      "   macro avg       0.57      0.64      0.52      2052\n",
      "weighted avg       0.83      0.61      0.67      2052\n",
      "\n",
      "('Accuracy: ', 0.6091617933723197)\n"
     ]
    }
   ],
   "source": [
    "print(classification_report(y_test,y_predG))\n",
    "print(\"Accuracy: \",accuracy_score(y_test,y_predG))"
   ]
  },
  {
   "cell_type": "code",
   "execution_count": null,
   "metadata": {},
   "outputs": [],
   "source": [
    "#skplt.metrics.plot_roc_curve(y_true, y_probas)"
   ]
  },
  {
   "cell_type": "markdown",
   "metadata": {},
   "source": [
    "### Logistic Regression"
   ]
  },
  {
   "cell_type": "markdown",
   "metadata": {},
   "source": [
    "Use GridSearchCV for hyperparameter tuning."
   ]
  },
  {
   "cell_type": "code",
   "execution_count": 175,
   "metadata": {},
   "outputs": [
    {
     "name": "stdout",
     "output_type": "stream",
     "text": [
      "Fitting 5 folds for each of 32 candidates, totalling 160 fits\n"
     ]
    },
    {
     "name": "stderr",
     "output_type": "stream",
     "text": [
      "[Parallel(n_jobs=2)]: Using backend LokyBackend with 2 concurrent workers.\n",
      "[Parallel(n_jobs=2)]: Done  14 tasks      | elapsed:   10.9s\n",
      "[Parallel(n_jobs=2)]: Done  68 tasks      | elapsed:   45.7s\n",
      "[Parallel(n_jobs=2)]: Done 160 out of 160 | elapsed:  5.9min finished\n"
     ]
    },
    {
     "data": {
      "text/plain": [
       "GridSearchCV(cv=5, error_score='raise-deprecating',\n",
       "       estimator=LogisticRegression(C=1.0, class_weight=None, dual=False, fit_intercept=True,\n",
       "          intercept_scaling=1, max_iter=100, multi_class='warn',\n",
       "          n_jobs=None, penalty='l2', random_state=None, solver='warn',\n",
       "          tol=0.0001, verbose=0, warm_start=False),\n",
       "       fit_params=None, iid='warn', n_jobs=2,\n",
       "       param_grid={'penalty': ['l1', 'l2'], 'C': [0.0001, 0.001, 0.01, 0.1, 1, 10, 100, 1000], 'solver': ['saga', 'liblinear']},\n",
       "       pre_dispatch='2*n_jobs', refit=True, return_train_score='warn',\n",
       "       scoring=None, verbose=5)"
      ]
     },
     "execution_count": 175,
     "metadata": {},
     "output_type": "execute_result"
    }
   ],
   "source": [
    "# For small datasets, ‘liblinear’ is a good choice, whereas ‘sag’ and ‘saga’ are faster for large ones.\n",
    "# For multiclass problems, only ‘newton-cg’, ‘sag’, ‘saga’ and ‘lbfgs’ handle multinomial loss; ‘liblinear’ is limited to one-versus-rest schemes.\n",
    "# ‘newton-cg’, ‘lbfgs’, ‘sag’ and ‘saga’ handle L2 or no penalty\n",
    "# ‘liblinear’ and ‘saga’ also handle L1 penalty\n",
    "# ‘saga’ also supports ‘elasticnet’ penalty\n",
    "# ‘liblinear’ does not support setting penalty='none'\n",
    "param = {\n",
    "    'C' : [10**x for x in range(-4,4,1)],\n",
    "    'penalty': ['l1','l2'],\n",
    "    'solver' : ['saga','liblinear']    \n",
    "}\n",
    "clfLR = LogisticRegression()\n",
    "clf_GSLR = GridSearchCV(clfLR, param_grid =param, cv = 5, n_jobs = 2, verbose = 5)\n",
    "clf_GSLR.fit(X_1,y_1)"
   ]
  },
  {
   "cell_type": "code",
   "execution_count": 176,
   "metadata": {},
   "outputs": [
    {
     "data": {
      "text/plain": [
       "LogisticRegression(C=0.1, class_weight=None, dual=False, fit_intercept=True,\n",
       "          intercept_scaling=1, max_iter=100, multi_class='warn',\n",
       "          n_jobs=None, penalty='l2', random_state=None, solver='liblinear',\n",
       "          tol=0.0001, verbose=0, warm_start=False)"
      ]
     },
     "execution_count": 176,
     "metadata": {},
     "output_type": "execute_result"
    }
   ],
   "source": [
    "clf_GSLR.best_estimator_"
   ]
  },
  {
   "cell_type": "code",
   "execution_count": 177,
   "metadata": {},
   "outputs": [
    {
     "data": {
      "text/plain": [
       "0.8917042270678524"
      ]
     },
     "execution_count": 177,
     "metadata": {},
     "output_type": "execute_result"
    }
   ],
   "source": [
    "clf_GSLR.best_score_"
   ]
  },
  {
   "cell_type": "code",
   "execution_count": 178,
   "metadata": {},
   "outputs": [],
   "source": [
    "bestLRCLF = clf_GSLR.best_estimator_\n",
    "bestLRCLF.fit(X_1,y_1)\n",
    "y_predLR = bestLRCLF.predict(X_test)"
   ]
  },
  {
   "cell_type": "code",
   "execution_count": 179,
   "metadata": {},
   "outputs": [
    {
     "name": "stdout",
     "output_type": "stream",
     "text": [
      "Logistic Regression Classification Report \n",
      "\n",
      "              precision    recall  f1-score   support\n",
      "\n",
      "         0.0       0.64      0.24      0.35       279\n",
      "         1.0       0.89      0.98      0.93      1773\n",
      "\n",
      "   micro avg       0.88      0.88      0.88      2052\n",
      "   macro avg       0.77      0.61      0.64      2052\n",
      "weighted avg       0.86      0.88      0.85      2052\n",
      "\n",
      "('Accuracy Logistive Regression: ', 0.8786549707602339)\n"
     ]
    }
   ],
   "source": [
    "print(\"Logistic Regression Classification Report \\n\")\n",
    "print(classification_report(y_test,y_predLR))\n",
    "print(\"Accuracy Logistive Regression: \",accuracy_score(y_test,y_predLR))"
   ]
  },
  {
   "cell_type": "markdown",
   "metadata": {},
   "source": [
    "### SVM Classifier"
   ]
  },
  {
   "cell_type": "code",
   "execution_count": null,
   "metadata": {},
   "outputs": [
    {
     "name": "stdout",
     "output_type": "stream",
     "text": [
      "Fitting 5 folds for each of 144 candidates, totalling 720 fits\n"
     ]
    },
    {
     "name": "stderr",
     "output_type": "stream",
     "text": [
      "[Parallel(n_jobs=2)]: Using backend LokyBackend with 2 concurrent workers.\n",
      "[Parallel(n_jobs=2)]: Done  14 tasks      | elapsed:  5.3min\n",
      "[Parallel(n_jobs=2)]: Done  68 tasks      | elapsed: 34.1min\n"
     ]
    }
   ],
   "source": [
    "clfS = SVC()\n",
    "par = { 'C': [10**x for x in range(-4,4,1)],\n",
    "       'kernel': ['linear','poly','rbf'],\n",
    "       'gamma': np.logspace(-3, 2, 6)    \n",
    "}\n",
    "clfGSS = GridSearchCV(clfS, param_grid = par,cv = 5, verbose = 5, n_jobs = 2)\n",
    "clfGSS.fit(X_1,y_1)"
   ]
  },
  {
   "cell_type": "code",
   "execution_count": 101,
   "metadata": {},
   "outputs": [
    {
     "data": {
      "text/plain": [
       "array([[   0,  409],\n",
       "       [   0, 2669]], dtype=int64)"
      ]
     },
     "execution_count": 101,
     "metadata": {},
     "output_type": "execute_result"
    }
   ],
   "source": [
    "y_predS = clfS.predict(X_test)\n",
    "confusion_matrix(y_test,y_predS)"
   ]
  },
  {
   "cell_type": "code",
   "execution_count": 97,
   "metadata": {},
   "outputs": [
    {
     "name": "stdout",
     "output_type": "stream",
     "text": [
      "SVM Classification Report \n",
      "\n",
      "              precision    recall  f1-score   support\n",
      "\n",
      "         0.0       0.50      0.37      0.42       409\n",
      "         1.0       0.91      0.94      0.92      2669\n",
      "\n",
      "   micro avg       0.87      0.87      0.87      3078\n",
      "   macro avg       0.70      0.66      0.67      3078\n",
      "weighted avg       0.85      0.87      0.86      3078\n",
      "\n",
      "('Accuracy SVM: ', 0.866146848602989)\n"
     ]
    }
   ],
   "source": [
    "print(\"SVM Classification Report \\n\")\n",
    "print(classification_report(y_test,y_predLR))\n",
    "print(\"Accuracy SVM: \",accuracy_score(y_test,y_predLR))"
   ]
  },
  {
   "cell_type": "markdown",
   "metadata": {},
   "source": [
    "### Decision Tree"
   ]
  },
  {
   "cell_type": "code",
   "execution_count": 371,
   "metadata": {},
   "outputs": [
    {
     "data": {
      "text/plain": [
       "DecisionTreeClassifier(class_weight=None, criterion='gini', max_depth=None,\n",
       "            max_features=None, max_leaf_nodes=None,\n",
       "            min_impurity_decrease=0.0, min_impurity_split=None,\n",
       "            min_samples_leaf=1, min_samples_split=2,\n",
       "            min_weight_fraction_leaf=0.0, presort=False, random_state=None,\n",
       "            splitter='best')"
      ]
     },
     "execution_count": 371,
     "metadata": {},
     "output_type": "execute_result"
    }
   ],
   "source": [
    "from sklearn.tree import DecisionTreeClassifier\n",
    "clfDT = DecisionTreeClassifier()\n",
    "clfDT.fit(X_train,y_train)"
   ]
  },
  {
   "cell_type": "code",
   "execution_count": 376,
   "metadata": {},
   "outputs": [
    {
     "name": "stdout",
     "output_type": "stream",
     "text": [
      "[[ 122  287]\n",
      " [ 270 2399]]\n",
      "0.8190383365821963\n"
     ]
    }
   ],
   "source": [
    "y_predDT = clfDT.predict(X_test)\n",
    "print(confusion_matrix(y_test,y_predDT))"
   ]
  },
  {
   "cell_type": "code",
   "execution_count": null,
   "metadata": {},
   "outputs": [],
   "source": [
    "print(\"SVM Classification Report \\n\")\n",
    "print(classification_report(y_test,y_predDT))\n",
    "print(\"Accuracy SVM: \",accuracy_score(y_test,y_predDT))"
   ]
  },
  {
   "cell_type": "markdown",
   "metadata": {},
   "source": [
    "### Random Forest"
   ]
  },
  {
   "cell_type": "code",
   "execution_count": 373,
   "metadata": {},
   "outputs": [
    {
     "name": "stderr",
     "output_type": "stream",
     "text": [
      "C:\\Users\\nilesh\\Anaconda2\\lib\\site-packages\\sklearn\\ensemble\\forest.py:246: FutureWarning: The default value of n_estimators will change from 10 in version 0.20 to 100 in 0.22.\n",
      "  \"10 in version 0.20 to 100 in 0.22.\", FutureWarning)\n"
     ]
    },
    {
     "data": {
      "text/plain": [
       "RandomForestClassifier(bootstrap=True, class_weight=None, criterion='gini',\n",
       "            max_depth=None, max_features='auto', max_leaf_nodes=None,\n",
       "            min_impurity_decrease=0.0, min_impurity_split=None,\n",
       "            min_samples_leaf=1, min_samples_split=2,\n",
       "            min_weight_fraction_leaf=0.0, n_estimators=10, n_jobs=None,\n",
       "            oob_score=False, random_state=None, verbose=0,\n",
       "            warm_start=False)"
      ]
     },
     "execution_count": 373,
     "metadata": {},
     "output_type": "execute_result"
    }
   ],
   "source": [
    "from sklearn.ensemble import RandomForestClassifier\n",
    "clfRF = RandomForestClassifier()\n",
    "clfRF.fit(X_train,y_train)"
   ]
  },
  {
   "cell_type": "code",
   "execution_count": 375,
   "metadata": {},
   "outputs": [
    {
     "name": "stdout",
     "output_type": "stream",
     "text": [
      "[[  62  347]\n",
      " [  81 2588]]\n",
      "0.8609486679662118\n"
     ]
    }
   ],
   "source": [
    "y_predRF = clfRF.predict(X_test)\n",
    "print(confusion_matrix(y_test,y_predRF))\n",
    "print(accuracy_score(y_test,y_predRF))"
   ]
  },
  {
   "cell_type": "markdown",
   "metadata": {},
   "source": [
    "# Models using Tf-idf vectorization"
   ]
  },
  {
   "cell_type": "code",
   "execution_count": null,
   "metadata": {},
   "outputs": [],
   "source": [
    "JonedColumnsNew.head() # This is the dataset with tokens"
   ]
  },
  {
   "cell_type": "code",
   "execution_count": null,
   "metadata": {},
   "outputs": [],
   "source": [
    "tfidfData = JonedColumnsNew.copy()"
   ]
  },
  {
   "cell_type": "code",
   "execution_count": null,
   "metadata": {},
   "outputs": [],
   "source": [
    "# Each review is in list of tokens format. Convert tokens into sentences then apply tfidf vectorizer\n",
    "# Ref Link: https://datascience.stackexchange.com/questions/24376/use-of-tfidfvectorizer-on-dataframe\n",
    "for sentence in tfidfData:\n",
    "    for word in sentence:\n",
    "        \"\".join(word)"
   ]
  },
  {
   "cell_type": "code",
   "execution_count": null,
   "metadata": {},
   "outputs": [],
   "source": [
    "vectorizer = TfidfVectorizer()\n",
    "tfidfVectors = vectorizer.fit(tfidfData)\n",
    "tfidfVectors.shape"
   ]
  }
 ],
 "metadata": {
  "kernelspec": {
   "display_name": "Python 2",
   "language": "python",
   "name": "python2"
  },
  "language_info": {
   "codemirror_mode": {
    "name": "ipython",
    "version": 2
   },
   "file_extension": ".py",
   "mimetype": "text/x-python",
   "name": "python",
   "nbconvert_exporter": "python",
   "pygments_lexer": "ipython2",
   "version": "2.7.15"
  }
 },
 "nbformat": 4,
 "nbformat_minor": 2
}
